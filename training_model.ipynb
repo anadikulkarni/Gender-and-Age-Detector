{
 "cells": [
  {
   "cell_type": "code",
   "execution_count": 1,
   "metadata": {},
   "outputs": [],
   "source": [
    "import tensorflow as tf\n",
    "import numpy as np\n",
    "import matplotlib.pyplot as plt\n",
    "import cv2\n",
    "from tensorflow.keras.layers import Dropout, Conv2D, BatchNormalization, Flatten, Dense, MaxPool2D, Input, Activation, Add, MaxPooling2D\n",
    "from tensorflow.keras.models import Sequential, Model\n",
    "from tensorflow.keras.regularizers import l2\n",
    "from tensorflow.keras.optimizers import Adam, Adagrad, Adadelta, Adamax, RMSprop\n",
    "import os\n",
    "from sklearn.model_selection import train_test_split\n",
    "from tensorflow.keras.callbacks import ModelCheckpoint, EarlyStopping\n",
    "import json"
   ]
  },
  {
   "cell_type": "code",
   "execution_count": 2,
   "metadata": {},
   "outputs": [],
   "source": [
    "fldr = \"jangedoo/utkface-new/versions/1/UTKFace\""
   ]
  },
  {
   "cell_type": "code",
   "execution_count": 3,
   "metadata": {},
   "outputs": [],
   "source": [
    "files = os.listdir(fldr)"
   ]
  },
  {
   "cell_type": "code",
   "execution_count": 4,
   "metadata": {},
   "outputs": [],
   "source": [
    "ages = []\n",
    "genders = []\n",
    "images = []"
   ]
  },
  {
   "cell_type": "code",
   "execution_count": 5,
   "metadata": {},
   "outputs": [],
   "source": [
    "for f in files:\n",
    "    age = int(f.split('_')[0])\n",
    "    ages.append(age)\n",
    "    gender = int(f.split('_')[1])\n",
    "    genders.append(gender)\n",
    "    image = cv2.imread(fldr + '/' + f)\n",
    "    image = cv2.cvtColor(image, cv2.COLOR_BGR2RGB)\n",
    "    image = cv2.resize(image, (48, 48))\n",
    "    images.append(image)"
   ]
  },
  {
   "cell_type": "code",
   "execution_count": 6,
   "metadata": {},
   "outputs": [],
   "source": [
    "images_f  = np.array(images)\n",
    "ages_f = np.array(ages)\n",
    "genders_f = np.array(genders)"
   ]
  },
  {
   "cell_type": "code",
   "execution_count": 7,
   "metadata": {},
   "outputs": [],
   "source": [
    "# Defining labels for the model\n",
    "\n",
    "labels = []\n",
    "i = 0\n",
    "while i < len(ages_f):\n",
    "    label = []\n",
    "    label.append(ages_f[i])\n",
    "    label.append(genders_f[i])\n",
    "    labels.append(label)\n",
    "    i += 1"
   ]
  },
  {
   "cell_type": "code",
   "execution_count": 8,
   "metadata": {},
   "outputs": [],
   "source": [
    "labels_f = np.array(labels)"
   ]
  },
  {
   "cell_type": "code",
   "execution_count": 9,
   "metadata": {},
   "outputs": [],
   "source": [
    "# Creating another list of images with the pixel values scaled between 0 and 1\n",
    "\n",
    "images_f_2 = images_f / 255.0"
   ]
  },
  {
   "cell_type": "code",
   "execution_count": 10,
   "metadata": {},
   "outputs": [],
   "source": [
    "X_train, X_test, y_train, y_test = train_test_split(images_f_2, labels_f, test_size=0.25, random_state=42)"
   ]
  },
  {
   "cell_type": "code",
   "execution_count": 11,
   "metadata": {},
   "outputs": [],
   "source": [
    "y_train_2=[y_train[:,1],y_train[:,0]]\n",
    "y_test_2=[y_test[:,1],y_test[:,0]]"
   ]
  },
  {
   "cell_type": "code",
   "execution_count": 12,
   "metadata": {},
   "outputs": [],
   "source": [
    "# using Tensorflow\n",
    "\n",
    "def Convolution(input_tensor, filters):\n",
    "    x = Conv2D(filters=filters, kernel_size=(3,3), padding=\"same\", strides=(1,1), kernel_regularizer=l2(0.001))(input_tensor)\n",
    "    x = Dropout(0.1)(x)\n",
    "    x = Activation('relu')(x)\n",
    "    return x"
   ]
  },
  {
   "cell_type": "code",
   "execution_count": 13,
   "metadata": {},
   "outputs": [],
   "source": [
    "def model(input_shape):\n",
    "    inputs = Input((input_shape))\n",
    "    conv_1 = Convolution(inputs, 32)\n",
    "    maxp_1 = MaxPooling2D(pool_size=(2,2))(conv_1)\n",
    "    conv_2 = Convolution(maxp_1, 64)\n",
    "    maxp_2 = MaxPooling2D(pool_size=(2,2))(conv_2)\n",
    "    conv_3 = Convolution(maxp_2, 128)\n",
    "    maxp_3 = MaxPooling2D(pool_size=(2,2))(conv_3)\n",
    "    conv_4 = Convolution(maxp_3, 256)\n",
    "    maxp_4 = MaxPooling2D(pool_size=(2,2))(conv_4)\n",
    "    flatten = Flatten()(maxp_4)\n",
    "    dense_1 = Dense(64, activation='relu')(flatten)\n",
    "    dense_2 = Dense(64, activation='relu')(flatten)\n",
    "    drop_1 = Dropout(0.2)(dense_1)\n",
    "    drop_2 = Dropout(0.2)(dense_2)\n",
    "    output_1 = Dense(1, activation='sigmoid', name='gender_out')(drop_1)\n",
    "    output_2 = Dense(1, activation='relu', name='age_out')(drop_2)\n",
    "    model = Model(inputs=inputs, outputs=[output_1, output_2])\n",
    "    model.compile(optimizer='adam', loss=['binary_crossentropy', 'mae'], metrics=['accuracy', 'accuracy'])\n",
    "    return model"
   ]
  },
  {
   "cell_type": "code",
   "execution_count": 14,
   "metadata": {},
   "outputs": [],
   "source": [
    "model = model((48, 48, 3))"
   ]
  },
  {
   "cell_type": "code",
   "execution_count": 15,
   "metadata": {},
   "outputs": [
    {
     "data": {
      "text/html": [
       "<pre style=\"white-space:pre;overflow-x:auto;line-height:normal;font-family:Menlo,'DejaVu Sans Mono',consolas,'Courier New',monospace\"><span style=\"font-weight: bold\">Model: \"functional\"</span>\n",
       "</pre>\n"
      ],
      "text/plain": [
       "\u001b[1mModel: \"functional\"\u001b[0m\n"
      ]
     },
     "metadata": {},
     "output_type": "display_data"
    },
    {
     "data": {
      "text/html": [
       "<pre style=\"white-space:pre;overflow-x:auto;line-height:normal;font-family:Menlo,'DejaVu Sans Mono',consolas,'Courier New',monospace\">┏━━━━━━━━━━━━━━━━━━━━━┳━━━━━━━━━━━━━━━━━━━┳━━━━━━━━━━━━┳━━━━━━━━━━━━━━━━━━━┓\n",
       "┃<span style=\"font-weight: bold\"> Layer (type)        </span>┃<span style=\"font-weight: bold\"> Output Shape      </span>┃<span style=\"font-weight: bold\">    Param # </span>┃<span style=\"font-weight: bold\"> Connected to      </span>┃\n",
       "┡━━━━━━━━━━━━━━━━━━━━━╇━━━━━━━━━━━━━━━━━━━╇━━━━━━━━━━━━╇━━━━━━━━━━━━━━━━━━━┩\n",
       "│ input_layer         │ (<span style=\"color: #00d7ff; text-decoration-color: #00d7ff\">None</span>, <span style=\"color: #00af00; text-decoration-color: #00af00\">48</span>, <span style=\"color: #00af00; text-decoration-color: #00af00\">48</span>, <span style=\"color: #00af00; text-decoration-color: #00af00\">3</span>) │          <span style=\"color: #00af00; text-decoration-color: #00af00\">0</span> │ -                 │\n",
       "│ (<span style=\"color: #0087ff; text-decoration-color: #0087ff\">InputLayer</span>)        │                   │            │                   │\n",
       "├─────────────────────┼───────────────────┼────────────┼───────────────────┤\n",
       "│ conv2d (<span style=\"color: #0087ff; text-decoration-color: #0087ff\">Conv2D</span>)     │ (<span style=\"color: #00d7ff; text-decoration-color: #00d7ff\">None</span>, <span style=\"color: #00af00; text-decoration-color: #00af00\">48</span>, <span style=\"color: #00af00; text-decoration-color: #00af00\">48</span>,    │        <span style=\"color: #00af00; text-decoration-color: #00af00\">896</span> │ input_layer[<span style=\"color: #00af00; text-decoration-color: #00af00\">0</span>][<span style=\"color: #00af00; text-decoration-color: #00af00\">0</span>] │\n",
       "│                     │ <span style=\"color: #00af00; text-decoration-color: #00af00\">32</span>)               │            │                   │\n",
       "├─────────────────────┼───────────────────┼────────────┼───────────────────┤\n",
       "│ dropout (<span style=\"color: #0087ff; text-decoration-color: #0087ff\">Dropout</span>)   │ (<span style=\"color: #00d7ff; text-decoration-color: #00d7ff\">None</span>, <span style=\"color: #00af00; text-decoration-color: #00af00\">48</span>, <span style=\"color: #00af00; text-decoration-color: #00af00\">48</span>,    │          <span style=\"color: #00af00; text-decoration-color: #00af00\">0</span> │ conv2d[<span style=\"color: #00af00; text-decoration-color: #00af00\">0</span>][<span style=\"color: #00af00; text-decoration-color: #00af00\">0</span>]      │\n",
       "│                     │ <span style=\"color: #00af00; text-decoration-color: #00af00\">32</span>)               │            │                   │\n",
       "├─────────────────────┼───────────────────┼────────────┼───────────────────┤\n",
       "│ activation          │ (<span style=\"color: #00d7ff; text-decoration-color: #00d7ff\">None</span>, <span style=\"color: #00af00; text-decoration-color: #00af00\">48</span>, <span style=\"color: #00af00; text-decoration-color: #00af00\">48</span>,    │          <span style=\"color: #00af00; text-decoration-color: #00af00\">0</span> │ dropout[<span style=\"color: #00af00; text-decoration-color: #00af00\">0</span>][<span style=\"color: #00af00; text-decoration-color: #00af00\">0</span>]     │\n",
       "│ (<span style=\"color: #0087ff; text-decoration-color: #0087ff\">Activation</span>)        │ <span style=\"color: #00af00; text-decoration-color: #00af00\">32</span>)               │            │                   │\n",
       "├─────────────────────┼───────────────────┼────────────┼───────────────────┤\n",
       "│ max_pooling2d       │ (<span style=\"color: #00d7ff; text-decoration-color: #00d7ff\">None</span>, <span style=\"color: #00af00; text-decoration-color: #00af00\">24</span>, <span style=\"color: #00af00; text-decoration-color: #00af00\">24</span>,    │          <span style=\"color: #00af00; text-decoration-color: #00af00\">0</span> │ activation[<span style=\"color: #00af00; text-decoration-color: #00af00\">0</span>][<span style=\"color: #00af00; text-decoration-color: #00af00\">0</span>]  │\n",
       "│ (<span style=\"color: #0087ff; text-decoration-color: #0087ff\">MaxPooling2D</span>)      │ <span style=\"color: #00af00; text-decoration-color: #00af00\">32</span>)               │            │                   │\n",
       "├─────────────────────┼───────────────────┼────────────┼───────────────────┤\n",
       "│ conv2d_1 (<span style=\"color: #0087ff; text-decoration-color: #0087ff\">Conv2D</span>)   │ (<span style=\"color: #00d7ff; text-decoration-color: #00d7ff\">None</span>, <span style=\"color: #00af00; text-decoration-color: #00af00\">24</span>, <span style=\"color: #00af00; text-decoration-color: #00af00\">24</span>,    │     <span style=\"color: #00af00; text-decoration-color: #00af00\">18,496</span> │ max_pooling2d[<span style=\"color: #00af00; text-decoration-color: #00af00\">0</span>]… │\n",
       "│                     │ <span style=\"color: #00af00; text-decoration-color: #00af00\">64</span>)               │            │                   │\n",
       "├─────────────────────┼───────────────────┼────────────┼───────────────────┤\n",
       "│ dropout_1 (<span style=\"color: #0087ff; text-decoration-color: #0087ff\">Dropout</span>) │ (<span style=\"color: #00d7ff; text-decoration-color: #00d7ff\">None</span>, <span style=\"color: #00af00; text-decoration-color: #00af00\">24</span>, <span style=\"color: #00af00; text-decoration-color: #00af00\">24</span>,    │          <span style=\"color: #00af00; text-decoration-color: #00af00\">0</span> │ conv2d_1[<span style=\"color: #00af00; text-decoration-color: #00af00\">0</span>][<span style=\"color: #00af00; text-decoration-color: #00af00\">0</span>]    │\n",
       "│                     │ <span style=\"color: #00af00; text-decoration-color: #00af00\">64</span>)               │            │                   │\n",
       "├─────────────────────┼───────────────────┼────────────┼───────────────────┤\n",
       "│ activation_1        │ (<span style=\"color: #00d7ff; text-decoration-color: #00d7ff\">None</span>, <span style=\"color: #00af00; text-decoration-color: #00af00\">24</span>, <span style=\"color: #00af00; text-decoration-color: #00af00\">24</span>,    │          <span style=\"color: #00af00; text-decoration-color: #00af00\">0</span> │ dropout_1[<span style=\"color: #00af00; text-decoration-color: #00af00\">0</span>][<span style=\"color: #00af00; text-decoration-color: #00af00\">0</span>]   │\n",
       "│ (<span style=\"color: #0087ff; text-decoration-color: #0087ff\">Activation</span>)        │ <span style=\"color: #00af00; text-decoration-color: #00af00\">64</span>)               │            │                   │\n",
       "├─────────────────────┼───────────────────┼────────────┼───────────────────┤\n",
       "│ max_pooling2d_1     │ (<span style=\"color: #00d7ff; text-decoration-color: #00d7ff\">None</span>, <span style=\"color: #00af00; text-decoration-color: #00af00\">12</span>, <span style=\"color: #00af00; text-decoration-color: #00af00\">12</span>,    │          <span style=\"color: #00af00; text-decoration-color: #00af00\">0</span> │ activation_1[<span style=\"color: #00af00; text-decoration-color: #00af00\">0</span>][<span style=\"color: #00af00; text-decoration-color: #00af00\">…</span> │\n",
       "│ (<span style=\"color: #0087ff; text-decoration-color: #0087ff\">MaxPooling2D</span>)      │ <span style=\"color: #00af00; text-decoration-color: #00af00\">64</span>)               │            │                   │\n",
       "├─────────────────────┼───────────────────┼────────────┼───────────────────┤\n",
       "│ conv2d_2 (<span style=\"color: #0087ff; text-decoration-color: #0087ff\">Conv2D</span>)   │ (<span style=\"color: #00d7ff; text-decoration-color: #00d7ff\">None</span>, <span style=\"color: #00af00; text-decoration-color: #00af00\">12</span>, <span style=\"color: #00af00; text-decoration-color: #00af00\">12</span>,    │     <span style=\"color: #00af00; text-decoration-color: #00af00\">73,856</span> │ max_pooling2d_1[<span style=\"color: #00af00; text-decoration-color: #00af00\">…</span> │\n",
       "│                     │ <span style=\"color: #00af00; text-decoration-color: #00af00\">128</span>)              │            │                   │\n",
       "├─────────────────────┼───────────────────┼────────────┼───────────────────┤\n",
       "│ dropout_2 (<span style=\"color: #0087ff; text-decoration-color: #0087ff\">Dropout</span>) │ (<span style=\"color: #00d7ff; text-decoration-color: #00d7ff\">None</span>, <span style=\"color: #00af00; text-decoration-color: #00af00\">12</span>, <span style=\"color: #00af00; text-decoration-color: #00af00\">12</span>,    │          <span style=\"color: #00af00; text-decoration-color: #00af00\">0</span> │ conv2d_2[<span style=\"color: #00af00; text-decoration-color: #00af00\">0</span>][<span style=\"color: #00af00; text-decoration-color: #00af00\">0</span>]    │\n",
       "│                     │ <span style=\"color: #00af00; text-decoration-color: #00af00\">128</span>)              │            │                   │\n",
       "├─────────────────────┼───────────────────┼────────────┼───────────────────┤\n",
       "│ activation_2        │ (<span style=\"color: #00d7ff; text-decoration-color: #00d7ff\">None</span>, <span style=\"color: #00af00; text-decoration-color: #00af00\">12</span>, <span style=\"color: #00af00; text-decoration-color: #00af00\">12</span>,    │          <span style=\"color: #00af00; text-decoration-color: #00af00\">0</span> │ dropout_2[<span style=\"color: #00af00; text-decoration-color: #00af00\">0</span>][<span style=\"color: #00af00; text-decoration-color: #00af00\">0</span>]   │\n",
       "│ (<span style=\"color: #0087ff; text-decoration-color: #0087ff\">Activation</span>)        │ <span style=\"color: #00af00; text-decoration-color: #00af00\">128</span>)              │            │                   │\n",
       "├─────────────────────┼───────────────────┼────────────┼───────────────────┤\n",
       "│ max_pooling2d_2     │ (<span style=\"color: #00d7ff; text-decoration-color: #00d7ff\">None</span>, <span style=\"color: #00af00; text-decoration-color: #00af00\">6</span>, <span style=\"color: #00af00; text-decoration-color: #00af00\">6</span>, <span style=\"color: #00af00; text-decoration-color: #00af00\">128</span>) │          <span style=\"color: #00af00; text-decoration-color: #00af00\">0</span> │ activation_2[<span style=\"color: #00af00; text-decoration-color: #00af00\">0</span>][<span style=\"color: #00af00; text-decoration-color: #00af00\">…</span> │\n",
       "│ (<span style=\"color: #0087ff; text-decoration-color: #0087ff\">MaxPooling2D</span>)      │                   │            │                   │\n",
       "├─────────────────────┼───────────────────┼────────────┼───────────────────┤\n",
       "│ conv2d_3 (<span style=\"color: #0087ff; text-decoration-color: #0087ff\">Conv2D</span>)   │ (<span style=\"color: #00d7ff; text-decoration-color: #00d7ff\">None</span>, <span style=\"color: #00af00; text-decoration-color: #00af00\">6</span>, <span style=\"color: #00af00; text-decoration-color: #00af00\">6</span>, <span style=\"color: #00af00; text-decoration-color: #00af00\">256</span>) │    <span style=\"color: #00af00; text-decoration-color: #00af00\">295,168</span> │ max_pooling2d_2[<span style=\"color: #00af00; text-decoration-color: #00af00\">…</span> │\n",
       "├─────────────────────┼───────────────────┼────────────┼───────────────────┤\n",
       "│ dropout_3 (<span style=\"color: #0087ff; text-decoration-color: #0087ff\">Dropout</span>) │ (<span style=\"color: #00d7ff; text-decoration-color: #00d7ff\">None</span>, <span style=\"color: #00af00; text-decoration-color: #00af00\">6</span>, <span style=\"color: #00af00; text-decoration-color: #00af00\">6</span>, <span style=\"color: #00af00; text-decoration-color: #00af00\">256</span>) │          <span style=\"color: #00af00; text-decoration-color: #00af00\">0</span> │ conv2d_3[<span style=\"color: #00af00; text-decoration-color: #00af00\">0</span>][<span style=\"color: #00af00; text-decoration-color: #00af00\">0</span>]    │\n",
       "├─────────────────────┼───────────────────┼────────────┼───────────────────┤\n",
       "│ activation_3        │ (<span style=\"color: #00d7ff; text-decoration-color: #00d7ff\">None</span>, <span style=\"color: #00af00; text-decoration-color: #00af00\">6</span>, <span style=\"color: #00af00; text-decoration-color: #00af00\">6</span>, <span style=\"color: #00af00; text-decoration-color: #00af00\">256</span>) │          <span style=\"color: #00af00; text-decoration-color: #00af00\">0</span> │ dropout_3[<span style=\"color: #00af00; text-decoration-color: #00af00\">0</span>][<span style=\"color: #00af00; text-decoration-color: #00af00\">0</span>]   │\n",
       "│ (<span style=\"color: #0087ff; text-decoration-color: #0087ff\">Activation</span>)        │                   │            │                   │\n",
       "├─────────────────────┼───────────────────┼────────────┼───────────────────┤\n",
       "│ max_pooling2d_3     │ (<span style=\"color: #00d7ff; text-decoration-color: #00d7ff\">None</span>, <span style=\"color: #00af00; text-decoration-color: #00af00\">3</span>, <span style=\"color: #00af00; text-decoration-color: #00af00\">3</span>, <span style=\"color: #00af00; text-decoration-color: #00af00\">256</span>) │          <span style=\"color: #00af00; text-decoration-color: #00af00\">0</span> │ activation_3[<span style=\"color: #00af00; text-decoration-color: #00af00\">0</span>][<span style=\"color: #00af00; text-decoration-color: #00af00\">…</span> │\n",
       "│ (<span style=\"color: #0087ff; text-decoration-color: #0087ff\">MaxPooling2D</span>)      │                   │            │                   │\n",
       "├─────────────────────┼───────────────────┼────────────┼───────────────────┤\n",
       "│ flatten (<span style=\"color: #0087ff; text-decoration-color: #0087ff\">Flatten</span>)   │ (<span style=\"color: #00d7ff; text-decoration-color: #00d7ff\">None</span>, <span style=\"color: #00af00; text-decoration-color: #00af00\">2304</span>)      │          <span style=\"color: #00af00; text-decoration-color: #00af00\">0</span> │ max_pooling2d_3[<span style=\"color: #00af00; text-decoration-color: #00af00\">…</span> │\n",
       "├─────────────────────┼───────────────────┼────────────┼───────────────────┤\n",
       "│ dense (<span style=\"color: #0087ff; text-decoration-color: #0087ff\">Dense</span>)       │ (<span style=\"color: #00d7ff; text-decoration-color: #00d7ff\">None</span>, <span style=\"color: #00af00; text-decoration-color: #00af00\">64</span>)        │    <span style=\"color: #00af00; text-decoration-color: #00af00\">147,520</span> │ flatten[<span style=\"color: #00af00; text-decoration-color: #00af00\">0</span>][<span style=\"color: #00af00; text-decoration-color: #00af00\">0</span>]     │\n",
       "├─────────────────────┼───────────────────┼────────────┼───────────────────┤\n",
       "│ dense_1 (<span style=\"color: #0087ff; text-decoration-color: #0087ff\">Dense</span>)     │ (<span style=\"color: #00d7ff; text-decoration-color: #00d7ff\">None</span>, <span style=\"color: #00af00; text-decoration-color: #00af00\">64</span>)        │    <span style=\"color: #00af00; text-decoration-color: #00af00\">147,520</span> │ flatten[<span style=\"color: #00af00; text-decoration-color: #00af00\">0</span>][<span style=\"color: #00af00; text-decoration-color: #00af00\">0</span>]     │\n",
       "├─────────────────────┼───────────────────┼────────────┼───────────────────┤\n",
       "│ dropout_4 (<span style=\"color: #0087ff; text-decoration-color: #0087ff\">Dropout</span>) │ (<span style=\"color: #00d7ff; text-decoration-color: #00d7ff\">None</span>, <span style=\"color: #00af00; text-decoration-color: #00af00\">64</span>)        │          <span style=\"color: #00af00; text-decoration-color: #00af00\">0</span> │ dense[<span style=\"color: #00af00; text-decoration-color: #00af00\">0</span>][<span style=\"color: #00af00; text-decoration-color: #00af00\">0</span>]       │\n",
       "├─────────────────────┼───────────────────┼────────────┼───────────────────┤\n",
       "│ dropout_5 (<span style=\"color: #0087ff; text-decoration-color: #0087ff\">Dropout</span>) │ (<span style=\"color: #00d7ff; text-decoration-color: #00d7ff\">None</span>, <span style=\"color: #00af00; text-decoration-color: #00af00\">64</span>)        │          <span style=\"color: #00af00; text-decoration-color: #00af00\">0</span> │ dense_1[<span style=\"color: #00af00; text-decoration-color: #00af00\">0</span>][<span style=\"color: #00af00; text-decoration-color: #00af00\">0</span>]     │\n",
       "├─────────────────────┼───────────────────┼────────────┼───────────────────┤\n",
       "│ gender_out (<span style=\"color: #0087ff; text-decoration-color: #0087ff\">Dense</span>)  │ (<span style=\"color: #00d7ff; text-decoration-color: #00d7ff\">None</span>, <span style=\"color: #00af00; text-decoration-color: #00af00\">1</span>)         │         <span style=\"color: #00af00; text-decoration-color: #00af00\">65</span> │ dropout_4[<span style=\"color: #00af00; text-decoration-color: #00af00\">0</span>][<span style=\"color: #00af00; text-decoration-color: #00af00\">0</span>]   │\n",
       "├─────────────────────┼───────────────────┼────────────┼───────────────────┤\n",
       "│ age_out (<span style=\"color: #0087ff; text-decoration-color: #0087ff\">Dense</span>)     │ (<span style=\"color: #00d7ff; text-decoration-color: #00d7ff\">None</span>, <span style=\"color: #00af00; text-decoration-color: #00af00\">1</span>)         │         <span style=\"color: #00af00; text-decoration-color: #00af00\">65</span> │ dropout_5[<span style=\"color: #00af00; text-decoration-color: #00af00\">0</span>][<span style=\"color: #00af00; text-decoration-color: #00af00\">0</span>]   │\n",
       "└─────────────────────┴───────────────────┴────────────┴───────────────────┘\n",
       "</pre>\n"
      ],
      "text/plain": [
       "┏━━━━━━━━━━━━━━━━━━━━━┳━━━━━━━━━━━━━━━━━━━┳━━━━━━━━━━━━┳━━━━━━━━━━━━━━━━━━━┓\n",
       "┃\u001b[1m \u001b[0m\u001b[1mLayer (type)       \u001b[0m\u001b[1m \u001b[0m┃\u001b[1m \u001b[0m\u001b[1mOutput Shape     \u001b[0m\u001b[1m \u001b[0m┃\u001b[1m \u001b[0m\u001b[1m   Param #\u001b[0m\u001b[1m \u001b[0m┃\u001b[1m \u001b[0m\u001b[1mConnected to     \u001b[0m\u001b[1m \u001b[0m┃\n",
       "┡━━━━━━━━━━━━━━━━━━━━━╇━━━━━━━━━━━━━━━━━━━╇━━━━━━━━━━━━╇━━━━━━━━━━━━━━━━━━━┩\n",
       "│ input_layer         │ (\u001b[38;5;45mNone\u001b[0m, \u001b[38;5;34m48\u001b[0m, \u001b[38;5;34m48\u001b[0m, \u001b[38;5;34m3\u001b[0m) │          \u001b[38;5;34m0\u001b[0m │ -                 │\n",
       "│ (\u001b[38;5;33mInputLayer\u001b[0m)        │                   │            │                   │\n",
       "├─────────────────────┼───────────────────┼────────────┼───────────────────┤\n",
       "│ conv2d (\u001b[38;5;33mConv2D\u001b[0m)     │ (\u001b[38;5;45mNone\u001b[0m, \u001b[38;5;34m48\u001b[0m, \u001b[38;5;34m48\u001b[0m,    │        \u001b[38;5;34m896\u001b[0m │ input_layer[\u001b[38;5;34m0\u001b[0m][\u001b[38;5;34m0\u001b[0m] │\n",
       "│                     │ \u001b[38;5;34m32\u001b[0m)               │            │                   │\n",
       "├─────────────────────┼───────────────────┼────────────┼───────────────────┤\n",
       "│ dropout (\u001b[38;5;33mDropout\u001b[0m)   │ (\u001b[38;5;45mNone\u001b[0m, \u001b[38;5;34m48\u001b[0m, \u001b[38;5;34m48\u001b[0m,    │          \u001b[38;5;34m0\u001b[0m │ conv2d[\u001b[38;5;34m0\u001b[0m][\u001b[38;5;34m0\u001b[0m]      │\n",
       "│                     │ \u001b[38;5;34m32\u001b[0m)               │            │                   │\n",
       "├─────────────────────┼───────────────────┼────────────┼───────────────────┤\n",
       "│ activation          │ (\u001b[38;5;45mNone\u001b[0m, \u001b[38;5;34m48\u001b[0m, \u001b[38;5;34m48\u001b[0m,    │          \u001b[38;5;34m0\u001b[0m │ dropout[\u001b[38;5;34m0\u001b[0m][\u001b[38;5;34m0\u001b[0m]     │\n",
       "│ (\u001b[38;5;33mActivation\u001b[0m)        │ \u001b[38;5;34m32\u001b[0m)               │            │                   │\n",
       "├─────────────────────┼───────────────────┼────────────┼───────────────────┤\n",
       "│ max_pooling2d       │ (\u001b[38;5;45mNone\u001b[0m, \u001b[38;5;34m24\u001b[0m, \u001b[38;5;34m24\u001b[0m,    │          \u001b[38;5;34m0\u001b[0m │ activation[\u001b[38;5;34m0\u001b[0m][\u001b[38;5;34m0\u001b[0m]  │\n",
       "│ (\u001b[38;5;33mMaxPooling2D\u001b[0m)      │ \u001b[38;5;34m32\u001b[0m)               │            │                   │\n",
       "├─────────────────────┼───────────────────┼────────────┼───────────────────┤\n",
       "│ conv2d_1 (\u001b[38;5;33mConv2D\u001b[0m)   │ (\u001b[38;5;45mNone\u001b[0m, \u001b[38;5;34m24\u001b[0m, \u001b[38;5;34m24\u001b[0m,    │     \u001b[38;5;34m18,496\u001b[0m │ max_pooling2d[\u001b[38;5;34m0\u001b[0m]… │\n",
       "│                     │ \u001b[38;5;34m64\u001b[0m)               │            │                   │\n",
       "├─────────────────────┼───────────────────┼────────────┼───────────────────┤\n",
       "│ dropout_1 (\u001b[38;5;33mDropout\u001b[0m) │ (\u001b[38;5;45mNone\u001b[0m, \u001b[38;5;34m24\u001b[0m, \u001b[38;5;34m24\u001b[0m,    │          \u001b[38;5;34m0\u001b[0m │ conv2d_1[\u001b[38;5;34m0\u001b[0m][\u001b[38;5;34m0\u001b[0m]    │\n",
       "│                     │ \u001b[38;5;34m64\u001b[0m)               │            │                   │\n",
       "├─────────────────────┼───────────────────┼────────────┼───────────────────┤\n",
       "│ activation_1        │ (\u001b[38;5;45mNone\u001b[0m, \u001b[38;5;34m24\u001b[0m, \u001b[38;5;34m24\u001b[0m,    │          \u001b[38;5;34m0\u001b[0m │ dropout_1[\u001b[38;5;34m0\u001b[0m][\u001b[38;5;34m0\u001b[0m]   │\n",
       "│ (\u001b[38;5;33mActivation\u001b[0m)        │ \u001b[38;5;34m64\u001b[0m)               │            │                   │\n",
       "├─────────────────────┼───────────────────┼────────────┼───────────────────┤\n",
       "│ max_pooling2d_1     │ (\u001b[38;5;45mNone\u001b[0m, \u001b[38;5;34m12\u001b[0m, \u001b[38;5;34m12\u001b[0m,    │          \u001b[38;5;34m0\u001b[0m │ activation_1[\u001b[38;5;34m0\u001b[0m][\u001b[38;5;34m…\u001b[0m │\n",
       "│ (\u001b[38;5;33mMaxPooling2D\u001b[0m)      │ \u001b[38;5;34m64\u001b[0m)               │            │                   │\n",
       "├─────────────────────┼───────────────────┼────────────┼───────────────────┤\n",
       "│ conv2d_2 (\u001b[38;5;33mConv2D\u001b[0m)   │ (\u001b[38;5;45mNone\u001b[0m, \u001b[38;5;34m12\u001b[0m, \u001b[38;5;34m12\u001b[0m,    │     \u001b[38;5;34m73,856\u001b[0m │ max_pooling2d_1[\u001b[38;5;34m…\u001b[0m │\n",
       "│                     │ \u001b[38;5;34m128\u001b[0m)              │            │                   │\n",
       "├─────────────────────┼───────────────────┼────────────┼───────────────────┤\n",
       "│ dropout_2 (\u001b[38;5;33mDropout\u001b[0m) │ (\u001b[38;5;45mNone\u001b[0m, \u001b[38;5;34m12\u001b[0m, \u001b[38;5;34m12\u001b[0m,    │          \u001b[38;5;34m0\u001b[0m │ conv2d_2[\u001b[38;5;34m0\u001b[0m][\u001b[38;5;34m0\u001b[0m]    │\n",
       "│                     │ \u001b[38;5;34m128\u001b[0m)              │            │                   │\n",
       "├─────────────────────┼───────────────────┼────────────┼───────────────────┤\n",
       "│ activation_2        │ (\u001b[38;5;45mNone\u001b[0m, \u001b[38;5;34m12\u001b[0m, \u001b[38;5;34m12\u001b[0m,    │          \u001b[38;5;34m0\u001b[0m │ dropout_2[\u001b[38;5;34m0\u001b[0m][\u001b[38;5;34m0\u001b[0m]   │\n",
       "│ (\u001b[38;5;33mActivation\u001b[0m)        │ \u001b[38;5;34m128\u001b[0m)              │            │                   │\n",
       "├─────────────────────┼───────────────────┼────────────┼───────────────────┤\n",
       "│ max_pooling2d_2     │ (\u001b[38;5;45mNone\u001b[0m, \u001b[38;5;34m6\u001b[0m, \u001b[38;5;34m6\u001b[0m, \u001b[38;5;34m128\u001b[0m) │          \u001b[38;5;34m0\u001b[0m │ activation_2[\u001b[38;5;34m0\u001b[0m][\u001b[38;5;34m…\u001b[0m │\n",
       "│ (\u001b[38;5;33mMaxPooling2D\u001b[0m)      │                   │            │                   │\n",
       "├─────────────────────┼───────────────────┼────────────┼───────────────────┤\n",
       "│ conv2d_3 (\u001b[38;5;33mConv2D\u001b[0m)   │ (\u001b[38;5;45mNone\u001b[0m, \u001b[38;5;34m6\u001b[0m, \u001b[38;5;34m6\u001b[0m, \u001b[38;5;34m256\u001b[0m) │    \u001b[38;5;34m295,168\u001b[0m │ max_pooling2d_2[\u001b[38;5;34m…\u001b[0m │\n",
       "├─────────────────────┼───────────────────┼────────────┼───────────────────┤\n",
       "│ dropout_3 (\u001b[38;5;33mDropout\u001b[0m) │ (\u001b[38;5;45mNone\u001b[0m, \u001b[38;5;34m6\u001b[0m, \u001b[38;5;34m6\u001b[0m, \u001b[38;5;34m256\u001b[0m) │          \u001b[38;5;34m0\u001b[0m │ conv2d_3[\u001b[38;5;34m0\u001b[0m][\u001b[38;5;34m0\u001b[0m]    │\n",
       "├─────────────────────┼───────────────────┼────────────┼───────────────────┤\n",
       "│ activation_3        │ (\u001b[38;5;45mNone\u001b[0m, \u001b[38;5;34m6\u001b[0m, \u001b[38;5;34m6\u001b[0m, \u001b[38;5;34m256\u001b[0m) │          \u001b[38;5;34m0\u001b[0m │ dropout_3[\u001b[38;5;34m0\u001b[0m][\u001b[38;5;34m0\u001b[0m]   │\n",
       "│ (\u001b[38;5;33mActivation\u001b[0m)        │                   │            │                   │\n",
       "├─────────────────────┼───────────────────┼────────────┼───────────────────┤\n",
       "│ max_pooling2d_3     │ (\u001b[38;5;45mNone\u001b[0m, \u001b[38;5;34m3\u001b[0m, \u001b[38;5;34m3\u001b[0m, \u001b[38;5;34m256\u001b[0m) │          \u001b[38;5;34m0\u001b[0m │ activation_3[\u001b[38;5;34m0\u001b[0m][\u001b[38;5;34m…\u001b[0m │\n",
       "│ (\u001b[38;5;33mMaxPooling2D\u001b[0m)      │                   │            │                   │\n",
       "├─────────────────────┼───────────────────┼────────────┼───────────────────┤\n",
       "│ flatten (\u001b[38;5;33mFlatten\u001b[0m)   │ (\u001b[38;5;45mNone\u001b[0m, \u001b[38;5;34m2304\u001b[0m)      │          \u001b[38;5;34m0\u001b[0m │ max_pooling2d_3[\u001b[38;5;34m…\u001b[0m │\n",
       "├─────────────────────┼───────────────────┼────────────┼───────────────────┤\n",
       "│ dense (\u001b[38;5;33mDense\u001b[0m)       │ (\u001b[38;5;45mNone\u001b[0m, \u001b[38;5;34m64\u001b[0m)        │    \u001b[38;5;34m147,520\u001b[0m │ flatten[\u001b[38;5;34m0\u001b[0m][\u001b[38;5;34m0\u001b[0m]     │\n",
       "├─────────────────────┼───────────────────┼────────────┼───────────────────┤\n",
       "│ dense_1 (\u001b[38;5;33mDense\u001b[0m)     │ (\u001b[38;5;45mNone\u001b[0m, \u001b[38;5;34m64\u001b[0m)        │    \u001b[38;5;34m147,520\u001b[0m │ flatten[\u001b[38;5;34m0\u001b[0m][\u001b[38;5;34m0\u001b[0m]     │\n",
       "├─────────────────────┼───────────────────┼────────────┼───────────────────┤\n",
       "│ dropout_4 (\u001b[38;5;33mDropout\u001b[0m) │ (\u001b[38;5;45mNone\u001b[0m, \u001b[38;5;34m64\u001b[0m)        │          \u001b[38;5;34m0\u001b[0m │ dense[\u001b[38;5;34m0\u001b[0m][\u001b[38;5;34m0\u001b[0m]       │\n",
       "├─────────────────────┼───────────────────┼────────────┼───────────────────┤\n",
       "│ dropout_5 (\u001b[38;5;33mDropout\u001b[0m) │ (\u001b[38;5;45mNone\u001b[0m, \u001b[38;5;34m64\u001b[0m)        │          \u001b[38;5;34m0\u001b[0m │ dense_1[\u001b[38;5;34m0\u001b[0m][\u001b[38;5;34m0\u001b[0m]     │\n",
       "├─────────────────────┼───────────────────┼────────────┼───────────────────┤\n",
       "│ gender_out (\u001b[38;5;33mDense\u001b[0m)  │ (\u001b[38;5;45mNone\u001b[0m, \u001b[38;5;34m1\u001b[0m)         │         \u001b[38;5;34m65\u001b[0m │ dropout_4[\u001b[38;5;34m0\u001b[0m][\u001b[38;5;34m0\u001b[0m]   │\n",
       "├─────────────────────┼───────────────────┼────────────┼───────────────────┤\n",
       "│ age_out (\u001b[38;5;33mDense\u001b[0m)     │ (\u001b[38;5;45mNone\u001b[0m, \u001b[38;5;34m1\u001b[0m)         │         \u001b[38;5;34m65\u001b[0m │ dropout_5[\u001b[38;5;34m0\u001b[0m][\u001b[38;5;34m0\u001b[0m]   │\n",
       "└─────────────────────┴───────────────────┴────────────┴───────────────────┘\n"
      ]
     },
     "metadata": {},
     "output_type": "display_data"
    },
    {
     "data": {
      "text/html": [
       "<pre style=\"white-space:pre;overflow-x:auto;line-height:normal;font-family:Menlo,'DejaVu Sans Mono',consolas,'Courier New',monospace\"><span style=\"font-weight: bold\"> Total params: </span><span style=\"color: #00af00; text-decoration-color: #00af00\">683,586</span> (2.61 MB)\n",
       "</pre>\n"
      ],
      "text/plain": [
       "\u001b[1m Total params: \u001b[0m\u001b[38;5;34m683,586\u001b[0m (2.61 MB)\n"
      ]
     },
     "metadata": {},
     "output_type": "display_data"
    },
    {
     "data": {
      "text/html": [
       "<pre style=\"white-space:pre;overflow-x:auto;line-height:normal;font-family:Menlo,'DejaVu Sans Mono',consolas,'Courier New',monospace\"><span style=\"font-weight: bold\"> Trainable params: </span><span style=\"color: #00af00; text-decoration-color: #00af00\">683,586</span> (2.61 MB)\n",
       "</pre>\n"
      ],
      "text/plain": [
       "\u001b[1m Trainable params: \u001b[0m\u001b[38;5;34m683,586\u001b[0m (2.61 MB)\n"
      ]
     },
     "metadata": {},
     "output_type": "display_data"
    },
    {
     "data": {
      "text/html": [
       "<pre style=\"white-space:pre;overflow-x:auto;line-height:normal;font-family:Menlo,'DejaVu Sans Mono',consolas,'Courier New',monospace\"><span style=\"font-weight: bold\"> Non-trainable params: </span><span style=\"color: #00af00; text-decoration-color: #00af00\">0</span> (0.00 B)\n",
       "</pre>\n"
      ],
      "text/plain": [
       "\u001b[1m Non-trainable params: \u001b[0m\u001b[38;5;34m0\u001b[0m (0.00 B)\n"
      ]
     },
     "metadata": {},
     "output_type": "display_data"
    }
   ],
   "source": [
    "model.summary()"
   ]
  },
  {
   "cell_type": "code",
   "execution_count": 16,
   "metadata": {},
   "outputs": [],
   "source": [
    "fle_s = 'Age_Gender_Detection.h5'\n",
    "checkpoint = ModelCheckpoint(fle_s, monitor='val_loss', verbose=1, save_best_only=True, save_weights_only=False, mode='auto', save_freq='epoch')\n",
    "early_stop = EarlyStopping(monitor='val_loss', patience=75, restore_best_weights=True)\n",
    "callback_list = [checkpoint, early_stop]"
   ]
  },
  {
   "cell_type": "code",
   "execution_count": 17,
   "metadata": {},
   "outputs": [
    {
     "name": "stdout",
     "output_type": "stream",
     "text": [
      "Epoch 1/250\n",
      "\u001b[1m278/278\u001b[0m \u001b[32m━━━━━━━━━━━━━━━━━━━━\u001b[0m\u001b[37m\u001b[0m \u001b[1m0s\u001b[0m 83ms/step - age_out_accuracy: 0.0463 - age_out_loss: 17.3237 - gender_out_accuracy: 0.5436 - gender_out_loss: 0.6924 - loss: 18.2306\n",
      "Epoch 1: val_loss improved from inf to 16.27159, saving model to Age_Gender_Detection.h5\n"
     ]
    },
    {
     "name": "stderr",
     "output_type": "stream",
     "text": [
      "WARNING:absl:You are saving your model as an HDF5 file via `model.save()` or `keras.saving.save_model(model)`. This file format is considered legacy. We recommend using instead the native Keras format, e.g. `model.save('my_model.keras')` or `keras.saving.save_model(model, 'my_model.keras')`. \n"
     ]
    },
    {
     "name": "stdout",
     "output_type": "stream",
     "text": [
      "\u001b[1m278/278\u001b[0m \u001b[32m━━━━━━━━━━━━━━━━━━━━\u001b[0m\u001b[37m\u001b[0m \u001b[1m27s\u001b[0m 94ms/step - age_out_accuracy: 0.0463 - age_out_loss: 17.3183 - gender_out_accuracy: 0.5437 - gender_out_loss: 0.6924 - loss: 18.2252 - val_age_out_accuracy: 0.0474 - val_age_out_loss: 15.4347 - val_gender_out_accuracy: 0.6194 - val_gender_out_loss: 0.6408 - val_loss: 16.2716\n",
      "Epoch 2/250\n",
      "\u001b[1m278/278\u001b[0m \u001b[32m━━━━━━━━━━━━━━━━━━━━\u001b[0m\u001b[37m\u001b[0m \u001b[1m0s\u001b[0m 91ms/step - age_out_accuracy: 0.0449 - age_out_loss: 12.1886 - gender_out_accuracy: 0.6908 - gender_out_loss: 0.5902 - loss: 13.0045\n",
      "Epoch 2: val_loss improved from 16.27159 to 12.39520, saving model to Age_Gender_Detection.h5\n"
     ]
    },
    {
     "name": "stderr",
     "output_type": "stream",
     "text": [
      "WARNING:absl:You are saving your model as an HDF5 file via `model.save()` or `keras.saving.save_model(model)`. This file format is considered legacy. We recommend using instead the native Keras format, e.g. `model.save('my_model.keras')` or `keras.saving.save_model(model, 'my_model.keras')`. \n"
     ]
    },
    {
     "name": "stdout",
     "output_type": "stream",
     "text": [
      "\u001b[1m278/278\u001b[0m \u001b[32m━━━━━━━━━━━━━━━━━━━━\u001b[0m\u001b[37m\u001b[0m \u001b[1m28s\u001b[0m 99ms/step - age_out_accuracy: 0.0449 - age_out_loss: 12.1851 - gender_out_accuracy: 0.6909 - gender_out_loss: 0.5901 - loss: 13.0010 - val_age_out_accuracy: 0.0472 - val_age_out_loss: 11.5724 - val_gender_out_accuracy: 0.7550 - val_gender_out_loss: 0.5169 - val_loss: 12.3952\n",
      "Epoch 3/250\n",
      "\u001b[1m278/278\u001b[0m \u001b[32m━━━━━━━━━━━━━━━━━━━━\u001b[0m\u001b[37m\u001b[0m \u001b[1m0s\u001b[0m 89ms/step - age_out_accuracy: 0.0415 - age_out_loss: 9.6666 - gender_out_accuracy: 0.7517 - gender_out_loss: 0.5055 - loss: 10.4775\n",
      "Epoch 3: val_loss improved from 12.39520 to 10.41539, saving model to Age_Gender_Detection.h5\n"
     ]
    },
    {
     "name": "stderr",
     "output_type": "stream",
     "text": [
      "WARNING:absl:You are saving your model as an HDF5 file via `model.save()` or `keras.saving.save_model(model)`. This file format is considered legacy. We recommend using instead the native Keras format, e.g. `model.save('my_model.keras')` or `keras.saving.save_model(model, 'my_model.keras')`. \n"
     ]
    },
    {
     "name": "stdout",
     "output_type": "stream",
     "text": [
      "\u001b[1m278/278\u001b[0m \u001b[32m━━━━━━━━━━━━━━━━━━━━\u001b[0m\u001b[37m\u001b[0m \u001b[1m27s\u001b[0m 97ms/step - age_out_accuracy: 0.0416 - age_out_loss: 9.6659 - gender_out_accuracy: 0.7518 - gender_out_loss: 0.5055 - loss: 10.4767 - val_age_out_accuracy: 0.0472 - val_age_out_loss: 9.6337 - val_gender_out_accuracy: 0.8055 - val_gender_out_loss: 0.4444 - val_loss: 10.4154\n",
      "Epoch 4/250\n",
      "\u001b[1m278/278\u001b[0m \u001b[32m━━━━━━━━━━━━━━━━━━━━\u001b[0m\u001b[37m\u001b[0m \u001b[1m0s\u001b[0m 89ms/step - age_out_accuracy: 0.0461 - age_out_loss: 8.8491 - gender_out_accuracy: 0.7827 - gender_out_loss: 0.4584 - loss: 9.6425\n",
      "Epoch 4: val_loss did not improve from 10.41539\n",
      "\u001b[1m278/278\u001b[0m \u001b[32m━━━━━━━━━━━━━━━━━━━━\u001b[0m\u001b[37m\u001b[0m \u001b[1m27s\u001b[0m 97ms/step - age_out_accuracy: 0.0461 - age_out_loss: 8.8489 - gender_out_accuracy: 0.7828 - gender_out_loss: 0.4583 - loss: 9.6423 - val_age_out_accuracy: 0.0471 - val_age_out_loss: 12.4467 - val_gender_out_accuracy: 0.8058 - val_gender_out_loss: 0.4251 - val_loss: 13.2342\n",
      "Epoch 5/250\n",
      "\u001b[1m278/278\u001b[0m \u001b[32m━━━━━━━━━━━━━━━━━━━━\u001b[0m\u001b[37m\u001b[0m \u001b[1m0s\u001b[0m 90ms/step - age_out_accuracy: 0.0467 - age_out_loss: 8.4719 - gender_out_accuracy: 0.7941 - gender_out_loss: 0.4354 - loss: 9.2680\n",
      "Epoch 5: val_loss did not improve from 10.41539\n",
      "\u001b[1m278/278\u001b[0m \u001b[32m━━━━━━━━━━━━━━━━━━━━\u001b[0m\u001b[37m\u001b[0m \u001b[1m27s\u001b[0m 98ms/step - age_out_accuracy: 0.0467 - age_out_loss: 8.4718 - gender_out_accuracy: 0.7941 - gender_out_loss: 0.4354 - loss: 9.2679 - val_age_out_accuracy: 0.0474 - val_age_out_loss: 10.8145 - val_gender_out_accuracy: 0.8203 - val_gender_out_loss: 0.4024 - val_loss: 11.6019\n",
      "Epoch 6/250\n",
      "\u001b[1m278/278\u001b[0m \u001b[32m━━━━━━━━━━━━━━━━━━━━\u001b[0m\u001b[37m\u001b[0m \u001b[1m0s\u001b[0m 92ms/step - age_out_accuracy: 0.0454 - age_out_loss: 7.9501 - gender_out_accuracy: 0.8131 - gender_out_loss: 0.3986 - loss: 8.7331\n",
      "Epoch 6: val_loss improved from 10.41539 to 9.34788, saving model to Age_Gender_Detection.h5\n"
     ]
    },
    {
     "name": "stderr",
     "output_type": "stream",
     "text": [
      "WARNING:absl:You are saving your model as an HDF5 file via `model.save()` or `keras.saving.save_model(model)`. This file format is considered legacy. We recommend using instead the native Keras format, e.g. `model.save('my_model.keras')` or `keras.saving.save_model(model, 'my_model.keras')`. \n"
     ]
    },
    {
     "name": "stdout",
     "output_type": "stream",
     "text": [
      "\u001b[1m278/278\u001b[0m \u001b[32m━━━━━━━━━━━━━━━━━━━━\u001b[0m\u001b[37m\u001b[0m \u001b[1m28s\u001b[0m 100ms/step - age_out_accuracy: 0.0454 - age_out_loss: 7.9503 - gender_out_accuracy: 0.8131 - gender_out_loss: 0.3986 - loss: 8.7333 - val_age_out_accuracy: 0.0471 - val_age_out_loss: 8.5579 - val_gender_out_accuracy: 0.8281 - val_gender_out_loss: 0.3835 - val_loss: 9.3479\n",
      "Epoch 7/250\n",
      "\u001b[1m278/278\u001b[0m \u001b[32m━━━━━━━━━━━━━━━━━━━━\u001b[0m\u001b[37m\u001b[0m \u001b[1m0s\u001b[0m 108ms/step - age_out_accuracy: 0.0443 - age_out_loss: 7.8688 - gender_out_accuracy: 0.8212 - gender_out_loss: 0.3738 - loss: 8.6510\n",
      "Epoch 7: val_loss did not improve from 9.34788\n",
      "\u001b[1m278/278\u001b[0m \u001b[32m━━━━━━━━━━━━━━━━━━━━\u001b[0m\u001b[37m\u001b[0m \u001b[1m33s\u001b[0m 118ms/step - age_out_accuracy: 0.0443 - age_out_loss: 7.8689 - gender_out_accuracy: 0.8212 - gender_out_loss: 0.3738 - loss: 8.6511 - val_age_out_accuracy: 0.0474 - val_age_out_loss: 9.2997 - val_gender_out_accuracy: 0.8397 - val_gender_out_loss: 0.3590 - val_loss: 10.0855\n",
      "Epoch 8/250\n",
      "\u001b[1m278/278\u001b[0m \u001b[32m━━━━━━━━━━━━━━━━━━━━\u001b[0m\u001b[37m\u001b[0m \u001b[1m0s\u001b[0m 119ms/step - age_out_accuracy: 0.0489 - age_out_loss: 7.4595 - gender_out_accuracy: 0.8234 - gender_out_loss: 0.3735 - loss: 8.2601\n",
      "Epoch 8: val_loss did not improve from 9.34788\n",
      "\u001b[1m278/278\u001b[0m \u001b[32m━━━━━━━━━━━━━━━━━━━━\u001b[0m\u001b[37m\u001b[0m \u001b[1m36s\u001b[0m 129ms/step - age_out_accuracy: 0.0489 - age_out_loss: 7.4597 - gender_out_accuracy: 0.8234 - gender_out_loss: 0.3734 - loss: 8.2603 - val_age_out_accuracy: 0.0474 - val_age_out_loss: 9.2620 - val_gender_out_accuracy: 0.8554 - val_gender_out_loss: 0.3516 - val_loss: 10.0597\n",
      "Epoch 9/250\n",
      "\u001b[1m278/278\u001b[0m \u001b[32m━━━━━━━━━━━━━━━━━━━━\u001b[0m\u001b[37m\u001b[0m \u001b[1m0s\u001b[0m 105ms/step - age_out_accuracy: 0.0489 - age_out_loss: 7.4005 - gender_out_accuracy: 0.8389 - gender_out_loss: 0.3589 - loss: 8.2031\n",
      "Epoch 9: val_loss did not improve from 9.34788\n",
      "\u001b[1m278/278\u001b[0m \u001b[32m━━━━━━━━━━━━━━━━━━━━\u001b[0m\u001b[37m\u001b[0m \u001b[1m31s\u001b[0m 113ms/step - age_out_accuracy: 0.0489 - age_out_loss: 7.3999 - gender_out_accuracy: 0.8390 - gender_out_loss: 0.3589 - loss: 8.2024 - val_age_out_accuracy: 0.0474 - val_age_out_loss: 9.0688 - val_gender_out_accuracy: 0.8632 - val_gender_out_loss: 0.3290 - val_loss: 9.8558\n",
      "Epoch 10/250\n",
      "\u001b[1m278/278\u001b[0m \u001b[32m━━━━━━━━━━━━━━━━━━━━\u001b[0m\u001b[37m\u001b[0m \u001b[1m0s\u001b[0m 100ms/step - age_out_accuracy: 0.0470 - age_out_loss: 7.1163 - gender_out_accuracy: 0.8486 - gender_out_loss: 0.3347 - loss: 7.9084\n",
      "Epoch 10: val_loss did not improve from 9.34788\n",
      "\u001b[1m278/278\u001b[0m \u001b[32m━━━━━━━━━━━━━━━━━━━━\u001b[0m\u001b[37m\u001b[0m \u001b[1m30s\u001b[0m 109ms/step - age_out_accuracy: 0.0470 - age_out_loss: 7.1164 - gender_out_accuracy: 0.8486 - gender_out_loss: 0.3347 - loss: 7.9085 - val_age_out_accuracy: 0.0474 - val_age_out_loss: 9.2974 - val_gender_out_accuracy: 0.8694 - val_gender_out_loss: 0.3064 - val_loss: 10.0781\n",
      "Epoch 11/250\n",
      "\u001b[1m278/278\u001b[0m \u001b[32m━━━━━━━━━━━━━━━━━━━━\u001b[0m\u001b[37m\u001b[0m \u001b[1m0s\u001b[0m 103ms/step - age_out_accuracy: 0.0451 - age_out_loss: 6.9384 - gender_out_accuracy: 0.8475 - gender_out_loss: 0.3325 - loss: 7.7449\n",
      "Epoch 11: val_loss improved from 9.34788 to 8.65001, saving model to Age_Gender_Detection.h5\n"
     ]
    },
    {
     "name": "stderr",
     "output_type": "stream",
     "text": [
      "WARNING:absl:You are saving your model as an HDF5 file via `model.save()` or `keras.saving.save_model(model)`. This file format is considered legacy. We recommend using instead the native Keras format, e.g. `model.save('my_model.keras')` or `keras.saving.save_model(model, 'my_model.keras')`. \n"
     ]
    },
    {
     "name": "stdout",
     "output_type": "stream",
     "text": [
      "\u001b[1m278/278\u001b[0m \u001b[32m━━━━━━━━━━━━━━━━━━━━\u001b[0m\u001b[37m\u001b[0m \u001b[1m31s\u001b[0m 112ms/step - age_out_accuracy: 0.0451 - age_out_loss: 6.9383 - gender_out_accuracy: 0.8475 - gender_out_loss: 0.3325 - loss: 7.7448 - val_age_out_accuracy: 0.0474 - val_age_out_loss: 7.8626 - val_gender_out_accuracy: 0.8681 - val_gender_out_loss: 0.2957 - val_loss: 8.6500\n",
      "Epoch 12/250\n",
      "\u001b[1m278/278\u001b[0m \u001b[32m━━━━━━━━━━━━━━━━━━━━\u001b[0m\u001b[37m\u001b[0m \u001b[1m0s\u001b[0m 100ms/step - age_out_accuracy: 0.0451 - age_out_loss: 6.8053 - gender_out_accuracy: 0.8630 - gender_out_loss: 0.3031 - loss: 7.5994\n",
      "Epoch 12: val_loss did not improve from 8.65001\n",
      "\u001b[1m278/278\u001b[0m \u001b[32m━━━━━━━━━━━━━━━━━━━━\u001b[0m\u001b[37m\u001b[0m \u001b[1m31s\u001b[0m 110ms/step - age_out_accuracy: 0.0451 - age_out_loss: 6.8058 - gender_out_accuracy: 0.8630 - gender_out_loss: 0.3031 - loss: 7.5999 - val_age_out_accuracy: 0.0474 - val_age_out_loss: 9.5693 - val_gender_out_accuracy: 0.8699 - val_gender_out_loss: 0.3045 - val_loss: 10.3815\n",
      "Epoch 13/250\n",
      "\u001b[1m278/278\u001b[0m \u001b[32m━━━━━━━━━━━━━━━━━━━━\u001b[0m\u001b[37m\u001b[0m \u001b[1m0s\u001b[0m 105ms/step - age_out_accuracy: 0.0479 - age_out_loss: 6.5689 - gender_out_accuracy: 0.8660 - gender_out_loss: 0.3135 - loss: 7.3872\n",
      "Epoch 13: val_loss did not improve from 8.65001\n",
      "\u001b[1m278/278\u001b[0m \u001b[32m━━━━━━━━━━━━━━━━━━━━\u001b[0m\u001b[37m\u001b[0m \u001b[1m31s\u001b[0m 113ms/step - age_out_accuracy: 0.0479 - age_out_loss: 6.5693 - gender_out_accuracy: 0.8660 - gender_out_loss: 0.3135 - loss: 7.3876 - val_age_out_accuracy: 0.0474 - val_age_out_loss: 9.1770 - val_gender_out_accuracy: 0.8708 - val_gender_out_loss: 0.2898 - val_loss: 9.9873\n",
      "Epoch 14/250\n",
      "\u001b[1m278/278\u001b[0m \u001b[32m━━━━━━━━━━━━━━━━━━━━\u001b[0m\u001b[37m\u001b[0m \u001b[1m0s\u001b[0m 104ms/step - age_out_accuracy: 0.0460 - age_out_loss: 6.6370 - gender_out_accuracy: 0.8635 - gender_out_loss: 0.3029 - loss: 7.4582\n",
      "Epoch 14: val_loss did not improve from 8.65001\n",
      "\u001b[1m278/278\u001b[0m \u001b[32m━━━━━━━━━━━━━━━━━━━━\u001b[0m\u001b[37m\u001b[0m \u001b[1m32s\u001b[0m 113ms/step - age_out_accuracy: 0.0460 - age_out_loss: 6.6370 - gender_out_accuracy: 0.8635 - gender_out_loss: 0.3029 - loss: 7.4582 - val_age_out_accuracy: 0.0474 - val_age_out_loss: 8.7916 - val_gender_out_accuracy: 0.8760 - val_gender_out_loss: 0.2751 - val_loss: 9.6022\n",
      "Epoch 15/250\n",
      "\u001b[1m278/278\u001b[0m \u001b[32m━━━━━━━━━━━━━━━━━━━━\u001b[0m\u001b[37m\u001b[0m \u001b[1m0s\u001b[0m 98ms/step - age_out_accuracy: 0.0462 - age_out_loss: 6.5986 - gender_out_accuracy: 0.8678 - gender_out_loss: 0.2932 - loss: 7.4265\n",
      "Epoch 15: val_loss improved from 8.65001 to 7.95812, saving model to Age_Gender_Detection.h5\n"
     ]
    },
    {
     "name": "stderr",
     "output_type": "stream",
     "text": [
      "WARNING:absl:You are saving your model as an HDF5 file via `model.save()` or `keras.saving.save_model(model)`. This file format is considered legacy. We recommend using instead the native Keras format, e.g. `model.save('my_model.keras')` or `keras.saving.save_model(model, 'my_model.keras')`. \n"
     ]
    },
    {
     "name": "stdout",
     "output_type": "stream",
     "text": [
      "\u001b[1m278/278\u001b[0m \u001b[32m━━━━━━━━━━━━━━━━━━━━\u001b[0m\u001b[37m\u001b[0m \u001b[1m29s\u001b[0m 106ms/step - age_out_accuracy: 0.0462 - age_out_loss: 6.5984 - gender_out_accuracy: 0.8678 - gender_out_loss: 0.2932 - loss: 7.4263 - val_age_out_accuracy: 0.0474 - val_age_out_loss: 7.1522 - val_gender_out_accuracy: 0.8888 - val_gender_out_loss: 0.2587 - val_loss: 7.9581\n",
      "Epoch 16/250\n",
      "\u001b[1m278/278\u001b[0m \u001b[32m━━━━━━━━━━━━━━━━━━━━\u001b[0m\u001b[37m\u001b[0m \u001b[1m0s\u001b[0m 97ms/step - age_out_accuracy: 0.0488 - age_out_loss: 6.1958 - gender_out_accuracy: 0.8766 - gender_out_loss: 0.2770 - loss: 7.0227\n",
      "Epoch 16: val_loss did not improve from 7.95812\n",
      "\u001b[1m278/278\u001b[0m \u001b[32m━━━━━━━━━━━━━━━━━━━━\u001b[0m\u001b[37m\u001b[0m \u001b[1m29s\u001b[0m 105ms/step - age_out_accuracy: 0.0488 - age_out_loss: 6.1965 - gender_out_accuracy: 0.8766 - gender_out_loss: 0.2770 - loss: 7.0234 - val_age_out_accuracy: 0.0474 - val_age_out_loss: 7.4267 - val_gender_out_accuracy: 0.8821 - val_gender_out_loss: 0.2647 - val_loss: 8.2548\n",
      "Epoch 17/250\n",
      "\u001b[1m278/278\u001b[0m \u001b[32m━━━━━━━━━━━━━━━━━━━━\u001b[0m\u001b[37m\u001b[0m \u001b[1m0s\u001b[0m 96ms/step - age_out_accuracy: 0.0463 - age_out_loss: 6.1110 - gender_out_accuracy: 0.8752 - gender_out_loss: 0.2791 - loss: 6.9565\n",
      "Epoch 17: val_loss did not improve from 7.95812\n",
      "\u001b[1m278/278\u001b[0m \u001b[32m━━━━━━━━━━━━━━━━━━━━\u001b[0m\u001b[37m\u001b[0m \u001b[1m29s\u001b[0m 104ms/step - age_out_accuracy: 0.0463 - age_out_loss: 6.1114 - gender_out_accuracy: 0.8752 - gender_out_loss: 0.2791 - loss: 6.9569 - val_age_out_accuracy: 0.0474 - val_age_out_loss: 7.9748 - val_gender_out_accuracy: 0.8883 - val_gender_out_loss: 0.2620 - val_loss: 8.8171\n",
      "Epoch 18/250\n",
      "\u001b[1m278/278\u001b[0m \u001b[32m━━━━━━━━━━━━━━━━━━━━\u001b[0m\u001b[37m\u001b[0m \u001b[1m0s\u001b[0m 96ms/step - age_out_accuracy: 0.0481 - age_out_loss: 6.2131 - gender_out_accuracy: 0.8770 - gender_out_loss: 0.2809 - loss: 7.0763\n",
      "Epoch 18: val_loss did not improve from 7.95812\n",
      "\u001b[1m278/278\u001b[0m \u001b[32m━━━━━━━━━━━━━━━━━━━━\u001b[0m\u001b[37m\u001b[0m \u001b[1m29s\u001b[0m 103ms/step - age_out_accuracy: 0.0481 - age_out_loss: 6.2129 - gender_out_accuracy: 0.8769 - gender_out_loss: 0.2809 - loss: 7.0762 - val_age_out_accuracy: 0.0474 - val_age_out_loss: 7.8062 - val_gender_out_accuracy: 0.8878 - val_gender_out_loss: 0.2666 - val_loss: 8.6715\n",
      "Epoch 19/250\n",
      "\u001b[1m278/278\u001b[0m \u001b[32m━━━━━━━━━━━━━━━━━━━━\u001b[0m\u001b[37m\u001b[0m \u001b[1m0s\u001b[0m 96ms/step - age_out_accuracy: 0.0468 - age_out_loss: 5.8821 - gender_out_accuracy: 0.8856 - gender_out_loss: 0.2661 - loss: 6.7459\n",
      "Epoch 19: val_loss did not improve from 7.95812\n",
      "\u001b[1m278/278\u001b[0m \u001b[32m━━━━━━━━━━━━━━━━━━━━\u001b[0m\u001b[37m\u001b[0m \u001b[1m29s\u001b[0m 105ms/step - age_out_accuracy: 0.0468 - age_out_loss: 5.8826 - gender_out_accuracy: 0.8856 - gender_out_loss: 0.2661 - loss: 6.7464 - val_age_out_accuracy: 0.0474 - val_age_out_loss: 7.7065 - val_gender_out_accuracy: 0.8919 - val_gender_out_loss: 0.2628 - val_loss: 8.5818\n",
      "Epoch 20/250\n",
      "\u001b[1m278/278\u001b[0m \u001b[32m━━━━━━━━━━━━━━━━━━━━\u001b[0m\u001b[37m\u001b[0m \u001b[1m0s\u001b[0m 112ms/step - age_out_accuracy: 0.0475 - age_out_loss: 5.8478 - gender_out_accuracy: 0.8761 - gender_out_loss: 0.2707 - loss: 6.7307\n",
      "Epoch 20: val_loss did not improve from 7.95812\n",
      "\u001b[1m278/278\u001b[0m \u001b[32m━━━━━━━━━━━━━━━━━━━━\u001b[0m\u001b[37m\u001b[0m \u001b[1m33s\u001b[0m 120ms/step - age_out_accuracy: 0.0475 - age_out_loss: 5.8483 - gender_out_accuracy: 0.8761 - gender_out_loss: 0.2707 - loss: 6.7313 - val_age_out_accuracy: 0.0474 - val_age_out_loss: 7.5844 - val_gender_out_accuracy: 0.8859 - val_gender_out_loss: 0.2637 - val_loss: 8.4714\n",
      "Epoch 21/250\n",
      "\u001b[1m278/278\u001b[0m \u001b[32m━━━━━━━━━━━━━━━━━━━━\u001b[0m\u001b[37m\u001b[0m \u001b[1m0s\u001b[0m 99ms/step - age_out_accuracy: 0.0490 - age_out_loss: 5.7858 - gender_out_accuracy: 0.8804 - gender_out_loss: 0.2694 - loss: 6.6800\n",
      "Epoch 21: val_loss did not improve from 7.95812\n",
      "\u001b[1m278/278\u001b[0m \u001b[32m━━━━━━━━━━━━━━━━━━━━\u001b[0m\u001b[37m\u001b[0m \u001b[1m30s\u001b[0m 107ms/step - age_out_accuracy: 0.0490 - age_out_loss: 5.7863 - gender_out_accuracy: 0.8804 - gender_out_loss: 0.2694 - loss: 6.6804 - val_age_out_accuracy: 0.0474 - val_age_out_loss: 8.9664 - val_gender_out_accuracy: 0.8878 - val_gender_out_loss: 0.2608 - val_loss: 9.8635\n",
      "Epoch 22/250\n",
      "\u001b[1m278/278\u001b[0m \u001b[32m━━━━━━━━━━━━━━━━━━━━\u001b[0m\u001b[37m\u001b[0m \u001b[1m0s\u001b[0m 97ms/step - age_out_accuracy: 0.0472 - age_out_loss: 5.9396 - gender_out_accuracy: 0.8884 - gender_out_loss: 0.2653 - loss: 6.8423\n",
      "Epoch 22: val_loss did not improve from 7.95812\n",
      "\u001b[1m278/278\u001b[0m \u001b[32m━━━━━━━━━━━━━━━━━━━━\u001b[0m\u001b[37m\u001b[0m \u001b[1m29s\u001b[0m 106ms/step - age_out_accuracy: 0.0472 - age_out_loss: 5.9394 - gender_out_accuracy: 0.8884 - gender_out_loss: 0.2653 - loss: 6.8421 - val_age_out_accuracy: 0.0474 - val_age_out_loss: 8.0761 - val_gender_out_accuracy: 0.8885 - val_gender_out_loss: 0.2514 - val_loss: 8.9787\n",
      "Epoch 23/250\n",
      "\u001b[1m278/278\u001b[0m \u001b[32m━━━━━━━━━━━━━━━━━━━━\u001b[0m\u001b[37m\u001b[0m \u001b[1m0s\u001b[0m 105ms/step - age_out_accuracy: 0.0469 - age_out_loss: 5.8593 - gender_out_accuracy: 0.8944 - gender_out_loss: 0.2467 - loss: 6.7584\n",
      "Epoch 23: val_loss did not improve from 7.95812\n",
      "\u001b[1m278/278\u001b[0m \u001b[32m━━━━━━━━━━━━━━━━━━━━\u001b[0m\u001b[37m\u001b[0m \u001b[1m32s\u001b[0m 115ms/step - age_out_accuracy: 0.0469 - age_out_loss: 5.8592 - gender_out_accuracy: 0.8944 - gender_out_loss: 0.2467 - loss: 6.7583 - val_age_out_accuracy: 0.0474 - val_age_out_loss: 8.5927 - val_gender_out_accuracy: 0.8925 - val_gender_out_loss: 0.2540 - val_loss: 9.5142\n",
      "Epoch 24/250\n",
      "\u001b[1m278/278\u001b[0m \u001b[32m━━━━━━━━━━━━━━━━━━━━\u001b[0m\u001b[37m\u001b[0m \u001b[1m0s\u001b[0m 108ms/step - age_out_accuracy: 0.0462 - age_out_loss: 5.6926 - gender_out_accuracy: 0.8968 - gender_out_loss: 0.2412 - loss: 6.6012\n",
      "Epoch 24: val_loss did not improve from 7.95812\n",
      "\u001b[1m278/278\u001b[0m \u001b[32m━━━━━━━━━━━━━━━━━━━━\u001b[0m\u001b[37m\u001b[0m \u001b[1m33s\u001b[0m 118ms/step - age_out_accuracy: 0.0462 - age_out_loss: 5.6927 - gender_out_accuracy: 0.8968 - gender_out_loss: 0.2412 - loss: 6.6013 - val_age_out_accuracy: 0.0474 - val_age_out_loss: 8.0784 - val_gender_out_accuracy: 0.8919 - val_gender_out_loss: 0.2566 - val_loss: 9.0161\n",
      "Epoch 25/250\n",
      "\u001b[1m278/278\u001b[0m \u001b[32m━━━━━━━━━━━━━━━━━━━━\u001b[0m\u001b[37m\u001b[0m \u001b[1m0s\u001b[0m 111ms/step - age_out_accuracy: 0.0471 - age_out_loss: 5.6404 - gender_out_accuracy: 0.8936 - gender_out_loss: 0.2491 - loss: 6.5710\n",
      "Epoch 25: val_loss did not improve from 7.95812\n",
      "\u001b[1m278/278\u001b[0m \u001b[32m━━━━━━━━━━━━━━━━━━━━\u001b[0m\u001b[37m\u001b[0m \u001b[1m34s\u001b[0m 122ms/step - age_out_accuracy: 0.0471 - age_out_loss: 5.6403 - gender_out_accuracy: 0.8936 - gender_out_loss: 0.2492 - loss: 6.5709 - val_age_out_accuracy: 0.0474 - val_age_out_loss: 8.6038 - val_gender_out_accuracy: 0.8832 - val_gender_out_loss: 0.2615 - val_loss: 9.5606\n",
      "Epoch 26/250\n",
      "\u001b[1m278/278\u001b[0m \u001b[32m━━━━━━━━━━━━━━━━━━━━\u001b[0m\u001b[37m\u001b[0m \u001b[1m0s\u001b[0m 104ms/step - age_out_accuracy: 0.0455 - age_out_loss: 5.6644 - gender_out_accuracy: 0.8970 - gender_out_loss: 0.2421 - loss: 6.6013\n",
      "Epoch 26: val_loss improved from 7.95812 to 7.93215, saving model to Age_Gender_Detection.h5\n"
     ]
    },
    {
     "name": "stderr",
     "output_type": "stream",
     "text": [
      "WARNING:absl:You are saving your model as an HDF5 file via `model.save()` or `keras.saving.save_model(model)`. This file format is considered legacy. We recommend using instead the native Keras format, e.g. `model.save('my_model.keras')` or `keras.saving.save_model(model, 'my_model.keras')`. \n"
     ]
    },
    {
     "name": "stdout",
     "output_type": "stream",
     "text": [
      "\u001b[1m278/278\u001b[0m \u001b[32m━━━━━━━━━━━━━━━━━━━━\u001b[0m\u001b[37m\u001b[0m \u001b[1m31s\u001b[0m 113ms/step - age_out_accuracy: 0.0455 - age_out_loss: 5.6642 - gender_out_accuracy: 0.8970 - gender_out_loss: 0.2421 - loss: 6.6012 - val_age_out_accuracy: 0.0474 - val_age_out_loss: 6.9789 - val_gender_out_accuracy: 0.8951 - val_gender_out_loss: 0.2490 - val_loss: 7.9322\n",
      "Epoch 27/250\n",
      "\u001b[1m278/278\u001b[0m \u001b[32m━━━━━━━━━━━━━━━━━━━━\u001b[0m\u001b[37m\u001b[0m \u001b[1m0s\u001b[0m 99ms/step - age_out_accuracy: 0.0482 - age_out_loss: 5.5278 - gender_out_accuracy: 0.8991 - gender_out_loss: 0.2398 - loss: 6.4740\n",
      "Epoch 27: val_loss did not improve from 7.93215\n",
      "\u001b[1m278/278\u001b[0m \u001b[32m━━━━━━━━━━━━━━━━━━━━\u001b[0m\u001b[37m\u001b[0m \u001b[1m30s\u001b[0m 108ms/step - age_out_accuracy: 0.0482 - age_out_loss: 5.5279 - gender_out_accuracy: 0.8991 - gender_out_loss: 0.2398 - loss: 6.4741 - val_age_out_accuracy: 0.0474 - val_age_out_loss: 7.3820 - val_gender_out_accuracy: 0.8856 - val_gender_out_loss: 0.2651 - val_loss: 8.3688\n",
      "Epoch 28/250\n",
      "\u001b[1m278/278\u001b[0m \u001b[32m━━━━━━━━━━━━━━━━━━━━\u001b[0m\u001b[37m\u001b[0m \u001b[1m0s\u001b[0m 103ms/step - age_out_accuracy: 0.0452 - age_out_loss: 5.4825 - gender_out_accuracy: 0.9000 - gender_out_loss: 0.2328 - loss: 6.4352\n",
      "Epoch 28: val_loss did not improve from 7.93215\n",
      "\u001b[1m278/278\u001b[0m \u001b[32m━━━━━━━━━━━━━━━━━━━━\u001b[0m\u001b[37m\u001b[0m \u001b[1m31s\u001b[0m 111ms/step - age_out_accuracy: 0.0452 - age_out_loss: 5.4827 - gender_out_accuracy: 0.9000 - gender_out_loss: 0.2328 - loss: 6.4353 - val_age_out_accuracy: 0.0474 - val_age_out_loss: 7.1140 - val_gender_out_accuracy: 0.8947 - val_gender_out_loss: 0.2400 - val_loss: 8.0848\n",
      "Epoch 29/250\n",
      "\u001b[1m278/278\u001b[0m \u001b[32m━━━━━━━━━━━━━━━━━━━━\u001b[0m\u001b[37m\u001b[0m \u001b[1m0s\u001b[0m 105ms/step - age_out_accuracy: 0.0492 - age_out_loss: 5.3284 - gender_out_accuracy: 0.8983 - gender_out_loss: 0.2435 - loss: 6.3049\n",
      "Epoch 29: val_loss did not improve from 7.93215\n",
      "\u001b[1m278/278\u001b[0m \u001b[32m━━━━━━━━━━━━━━━━━━━━\u001b[0m\u001b[37m\u001b[0m \u001b[1m32s\u001b[0m 114ms/step - age_out_accuracy: 0.0492 - age_out_loss: 5.3288 - gender_out_accuracy: 0.8983 - gender_out_loss: 0.2435 - loss: 6.3052 - val_age_out_accuracy: 0.0474 - val_age_out_loss: 8.4264 - val_gender_out_accuracy: 0.8822 - val_gender_out_loss: 0.2545 - val_loss: 9.4261\n",
      "Epoch 30/250\n",
      "\u001b[1m278/278\u001b[0m \u001b[32m━━━━━━━━━━━━━━━━━━━━\u001b[0m\u001b[37m\u001b[0m \u001b[1m0s\u001b[0m 109ms/step - age_out_accuracy: 0.0463 - age_out_loss: 5.3013 - gender_out_accuracy: 0.9076 - gender_out_loss: 0.2265 - loss: 6.2724\n",
      "Epoch 30: val_loss improved from 7.93215 to 7.79618, saving model to Age_Gender_Detection.h5\n"
     ]
    },
    {
     "name": "stderr",
     "output_type": "stream",
     "text": [
      "WARNING:absl:You are saving your model as an HDF5 file via `model.save()` or `keras.saving.save_model(model)`. This file format is considered legacy. We recommend using instead the native Keras format, e.g. `model.save('my_model.keras')` or `keras.saving.save_model(model, 'my_model.keras')`. \n"
     ]
    },
    {
     "name": "stdout",
     "output_type": "stream",
     "text": [
      "\u001b[1m278/278\u001b[0m \u001b[32m━━━━━━━━━━━━━━━━━━━━\u001b[0m\u001b[37m\u001b[0m \u001b[1m33s\u001b[0m 118ms/step - age_out_accuracy: 0.0463 - age_out_loss: 5.3016 - gender_out_accuracy: 0.9076 - gender_out_loss: 0.2265 - loss: 6.2727 - val_age_out_accuracy: 0.0474 - val_age_out_loss: 6.7747 - val_gender_out_accuracy: 0.8768 - val_gender_out_loss: 0.2677 - val_loss: 7.7962\n",
      "Epoch 31/250\n",
      "\u001b[1m278/278\u001b[0m \u001b[32m━━━━━━━━━━━━━━━━━━━━\u001b[0m\u001b[37m\u001b[0m \u001b[1m0s\u001b[0m 102ms/step - age_out_accuracy: 0.0463 - age_out_loss: 5.2182 - gender_out_accuracy: 0.8981 - gender_out_loss: 0.2366 - loss: 6.2112\n",
      "Epoch 31: val_loss did not improve from 7.79618\n",
      "\u001b[1m278/278\u001b[0m \u001b[32m━━━━━━━━━━━━━━━━━━━━\u001b[0m\u001b[37m\u001b[0m \u001b[1m31s\u001b[0m 111ms/step - age_out_accuracy: 0.0463 - age_out_loss: 5.2186 - gender_out_accuracy: 0.8981 - gender_out_loss: 0.2366 - loss: 6.2116 - val_age_out_accuracy: 0.0474 - val_age_out_loss: 8.9751 - val_gender_out_accuracy: 0.8741 - val_gender_out_loss: 0.2579 - val_loss: 10.0013\n",
      "Epoch 32/250\n",
      "\u001b[1m278/278\u001b[0m \u001b[32m━━━━━━━━━━━━━━━━━━━━\u001b[0m\u001b[37m\u001b[0m \u001b[1m0s\u001b[0m 100ms/step - age_out_accuracy: 0.0486 - age_out_loss: 5.3668 - gender_out_accuracy: 0.9035 - gender_out_loss: 0.2277 - loss: 6.3610\n",
      "Epoch 32: val_loss did not improve from 7.79618\n",
      "\u001b[1m278/278\u001b[0m \u001b[32m━━━━━━━━━━━━━━━━━━━━\u001b[0m\u001b[37m\u001b[0m \u001b[1m30s\u001b[0m 109ms/step - age_out_accuracy: 0.0486 - age_out_loss: 5.3668 - gender_out_accuracy: 0.9035 - gender_out_loss: 0.2277 - loss: 6.3611 - val_age_out_accuracy: 0.0474 - val_age_out_loss: 7.7620 - val_gender_out_accuracy: 0.8865 - val_gender_out_loss: 0.2489 - val_loss: 8.7897\n",
      "Epoch 33/250\n",
      "\u001b[1m278/278\u001b[0m \u001b[32m━━━━━━━━━━━━━━━━━━━━\u001b[0m\u001b[37m\u001b[0m \u001b[1m0s\u001b[0m 98ms/step - age_out_accuracy: 0.0474 - age_out_loss: 5.1694 - gender_out_accuracy: 0.8996 - gender_out_loss: 0.2347 - loss: 6.1833\n",
      "Epoch 33: val_loss did not improve from 7.79618\n",
      "\u001b[1m278/278\u001b[0m \u001b[32m━━━━━━━━━━━━━━━━━━━━\u001b[0m\u001b[37m\u001b[0m \u001b[1m30s\u001b[0m 106ms/step - age_out_accuracy: 0.0474 - age_out_loss: 5.1697 - gender_out_accuracy: 0.8996 - gender_out_loss: 0.2347 - loss: 6.1836 - val_age_out_accuracy: 0.0474 - val_age_out_loss: 8.8806 - val_gender_out_accuracy: 0.8912 - val_gender_out_loss: 0.2523 - val_loss: 9.9242\n",
      "Epoch 34/250\n",
      "\u001b[1m278/278\u001b[0m \u001b[32m━━━━━━━━━━━━━━━━━━━━\u001b[0m\u001b[37m\u001b[0m \u001b[1m0s\u001b[0m 99ms/step - age_out_accuracy: 0.0466 - age_out_loss: 5.2837 - gender_out_accuracy: 0.9094 - gender_out_loss: 0.2182 - loss: 6.2918\n",
      "Epoch 34: val_loss did not improve from 7.79618\n",
      "\u001b[1m278/278\u001b[0m \u001b[32m━━━━━━━━━━━━━━━━━━━━\u001b[0m\u001b[37m\u001b[0m \u001b[1m30s\u001b[0m 107ms/step - age_out_accuracy: 0.0466 - age_out_loss: 5.2838 - gender_out_accuracy: 0.9094 - gender_out_loss: 0.2182 - loss: 6.2920 - val_age_out_accuracy: 0.0474 - val_age_out_loss: 7.3156 - val_gender_out_accuracy: 0.8996 - val_gender_out_loss: 0.2388 - val_loss: 8.3566\n",
      "Epoch 35/250\n",
      "\u001b[1m278/278\u001b[0m \u001b[32m━━━━━━━━━━━━━━━━━━━━\u001b[0m\u001b[37m\u001b[0m \u001b[1m0s\u001b[0m 105ms/step - age_out_accuracy: 0.0466 - age_out_loss: 5.1736 - gender_out_accuracy: 0.9067 - gender_out_loss: 0.2203 - loss: 6.1961\n",
      "Epoch 35: val_loss improved from 7.79618 to 7.60792, saving model to Age_Gender_Detection.h5\n"
     ]
    },
    {
     "name": "stderr",
     "output_type": "stream",
     "text": [
      "WARNING:absl:You are saving your model as an HDF5 file via `model.save()` or `keras.saving.save_model(model)`. This file format is considered legacy. We recommend using instead the native Keras format, e.g. `model.save('my_model.keras')` or `keras.saving.save_model(model, 'my_model.keras')`. \n"
     ]
    },
    {
     "name": "stdout",
     "output_type": "stream",
     "text": [
      "\u001b[1m278/278\u001b[0m \u001b[32m━━━━━━━━━━━━━━━━━━━━\u001b[0m\u001b[37m\u001b[0m \u001b[1m32s\u001b[0m 114ms/step - age_out_accuracy: 0.0466 - age_out_loss: 5.1735 - gender_out_accuracy: 0.9067 - gender_out_loss: 0.2203 - loss: 6.1960 - val_age_out_accuracy: 0.0474 - val_age_out_loss: 6.5565 - val_gender_out_accuracy: 0.8940 - val_gender_out_loss: 0.2425 - val_loss: 7.6079\n",
      "Epoch 36/250\n",
      "\u001b[1m278/278\u001b[0m \u001b[32m━━━━━━━━━━━━━━━━━━━━\u001b[0m\u001b[37m\u001b[0m \u001b[1m0s\u001b[0m 97ms/step - age_out_accuracy: 0.0488 - age_out_loss: 5.2116 - gender_out_accuracy: 0.9088 - gender_out_loss: 0.2200 - loss: 6.2423\n",
      "Epoch 36: val_loss did not improve from 7.60792\n",
      "\u001b[1m278/278\u001b[0m \u001b[32m━━━━━━━━━━━━━━━━━━━━\u001b[0m\u001b[37m\u001b[0m \u001b[1m29s\u001b[0m 105ms/step - age_out_accuracy: 0.0488 - age_out_loss: 5.2117 - gender_out_accuracy: 0.9087 - gender_out_loss: 0.2200 - loss: 6.2425 - val_age_out_accuracy: 0.0474 - val_age_out_loss: 6.8429 - val_gender_out_accuracy: 0.8934 - val_gender_out_loss: 0.2407 - val_loss: 7.9070\n",
      "Epoch 37/250\n",
      "\u001b[1m278/278\u001b[0m \u001b[32m━━━━━━━━━━━━━━━━━━━━\u001b[0m\u001b[37m\u001b[0m \u001b[1m0s\u001b[0m 101ms/step - age_out_accuracy: 0.0487 - age_out_loss: 5.1519 - gender_out_accuracy: 0.9032 - gender_out_loss: 0.2242 - loss: 6.1995\n",
      "Epoch 37: val_loss did not improve from 7.60792\n",
      "\u001b[1m278/278\u001b[0m \u001b[32m━━━━━━━━━━━━━━━━━━━━\u001b[0m\u001b[37m\u001b[0m \u001b[1m31s\u001b[0m 111ms/step - age_out_accuracy: 0.0486 - age_out_loss: 5.1519 - gender_out_accuracy: 0.9032 - gender_out_loss: 0.2242 - loss: 6.1996 - val_age_out_accuracy: 0.0474 - val_age_out_loss: 7.3638 - val_gender_out_accuracy: 0.8898 - val_gender_out_loss: 0.2521 - val_loss: 8.4514\n",
      "Epoch 38/250\n",
      "\u001b[1m278/278\u001b[0m \u001b[32m━━━━━━━━━━━━━━━━━━━━\u001b[0m\u001b[37m\u001b[0m \u001b[1m0s\u001b[0m 104ms/step - age_out_accuracy: 0.0496 - age_out_loss: 5.1663 - gender_out_accuracy: 0.9113 - gender_out_loss: 0.2083 - loss: 6.2086\n",
      "Epoch 38: val_loss did not improve from 7.60792\n",
      "\u001b[1m278/278\u001b[0m \u001b[32m━━━━━━━━━━━━━━━━━━━━\u001b[0m\u001b[37m\u001b[0m \u001b[1m32s\u001b[0m 114ms/step - age_out_accuracy: 0.0496 - age_out_loss: 5.1665 - gender_out_accuracy: 0.9113 - gender_out_loss: 0.2083 - loss: 6.2087 - val_age_out_accuracy: 0.0474 - val_age_out_loss: 7.6488 - val_gender_out_accuracy: 0.8895 - val_gender_out_loss: 0.2494 - val_loss: 8.7435\n",
      "Epoch 39/250\n",
      "\u001b[1m278/278\u001b[0m \u001b[32m━━━━━━━━━━━━━━━━━━━━\u001b[0m\u001b[37m\u001b[0m \u001b[1m0s\u001b[0m 100ms/step - age_out_accuracy: 0.0459 - age_out_loss: 5.0421 - gender_out_accuracy: 0.9073 - gender_out_loss: 0.2192 - loss: 6.1060\n",
      "Epoch 39: val_loss did not improve from 7.60792\n",
      "\u001b[1m278/278\u001b[0m \u001b[32m━━━━━━━━━━━━━━━━━━━━\u001b[0m\u001b[37m\u001b[0m \u001b[1m30s\u001b[0m 109ms/step - age_out_accuracy: 0.0459 - age_out_loss: 5.0422 - gender_out_accuracy: 0.9073 - gender_out_loss: 0.2192 - loss: 6.1062 - val_age_out_accuracy: 0.0474 - val_age_out_loss: 7.0236 - val_gender_out_accuracy: 0.8989 - val_gender_out_loss: 0.2457 - val_loss: 8.1217\n",
      "Epoch 40/250\n",
      "\u001b[1m278/278\u001b[0m \u001b[32m━━━━━━━━━━━━━━━━━━━━\u001b[0m\u001b[37m\u001b[0m \u001b[1m0s\u001b[0m 99ms/step - age_out_accuracy: 0.0445 - age_out_loss: 4.9862 - gender_out_accuracy: 0.9116 - gender_out_loss: 0.2191 - loss: 6.0590\n",
      "Epoch 40: val_loss did not improve from 7.60792\n",
      "\u001b[1m278/278\u001b[0m \u001b[32m━━━━━━━━━━━━━━━━━━━━\u001b[0m\u001b[37m\u001b[0m \u001b[1m30s\u001b[0m 108ms/step - age_out_accuracy: 0.0445 - age_out_loss: 4.9863 - gender_out_accuracy: 0.9116 - gender_out_loss: 0.2191 - loss: 6.0590 - val_age_out_accuracy: 0.0474 - val_age_out_loss: 6.8709 - val_gender_out_accuracy: 0.8930 - val_gender_out_loss: 0.2390 - val_loss: 7.9745\n",
      "Epoch 41/250\n",
      "\u001b[1m278/278\u001b[0m \u001b[32m━━━━━━━━━━━━━━━━━━━━\u001b[0m\u001b[37m\u001b[0m \u001b[1m0s\u001b[0m 96ms/step - age_out_accuracy: 0.0483 - age_out_loss: 4.9820 - gender_out_accuracy: 0.9092 - gender_out_loss: 0.2135 - loss: 6.0570\n",
      "Epoch 41: val_loss did not improve from 7.60792\n",
      "\u001b[1m278/278\u001b[0m \u001b[32m━━━━━━━━━━━━━━━━━━━━\u001b[0m\u001b[37m\u001b[0m \u001b[1m29s\u001b[0m 104ms/step - age_out_accuracy: 0.0483 - age_out_loss: 4.9820 - gender_out_accuracy: 0.9092 - gender_out_loss: 0.2135 - loss: 6.0571 - val_age_out_accuracy: 0.0474 - val_age_out_loss: 7.3092 - val_gender_out_accuracy: 0.8740 - val_gender_out_loss: 0.2648 - val_loss: 8.4438\n",
      "Epoch 42/250\n",
      "\u001b[1m278/278\u001b[0m \u001b[32m━━━━━━━━━━━━━━━━━━━━\u001b[0m\u001b[37m\u001b[0m \u001b[1m0s\u001b[0m 94ms/step - age_out_accuracy: 0.0455 - age_out_loss: 4.9678 - gender_out_accuracy: 0.9082 - gender_out_loss: 0.2115 - loss: 6.0503\n",
      "Epoch 42: val_loss did not improve from 7.60792\n",
      "\u001b[1m278/278\u001b[0m \u001b[32m━━━━━━━━━━━━━━━━━━━━\u001b[0m\u001b[37m\u001b[0m \u001b[1m28s\u001b[0m 102ms/step - age_out_accuracy: 0.0456 - age_out_loss: 4.9679 - gender_out_accuracy: 0.9082 - gender_out_loss: 0.2115 - loss: 6.0505 - val_age_out_accuracy: 0.0474 - val_age_out_loss: 8.3784 - val_gender_out_accuracy: 0.8922 - val_gender_out_loss: 0.2434 - val_loss: 9.5040\n",
      "Epoch 43/250\n",
      "\u001b[1m278/278\u001b[0m \u001b[32m━━━━━━━━━━━━━━━━━━━━\u001b[0m\u001b[37m\u001b[0m \u001b[1m0s\u001b[0m 94ms/step - age_out_accuracy: 0.0450 - age_out_loss: 4.8852 - gender_out_accuracy: 0.9162 - gender_out_loss: 0.2002 - loss: 5.9655\n",
      "Epoch 43: val_loss did not improve from 7.60792\n",
      "\u001b[1m278/278\u001b[0m \u001b[32m━━━━━━━━━━━━━━━━━━━━\u001b[0m\u001b[37m\u001b[0m \u001b[1m28s\u001b[0m 102ms/step - age_out_accuracy: 0.0450 - age_out_loss: 4.8853 - gender_out_accuracy: 0.9162 - gender_out_loss: 0.2003 - loss: 5.9656 - val_age_out_accuracy: 0.0474 - val_age_out_loss: 8.4835 - val_gender_out_accuracy: 0.8934 - val_gender_out_loss: 0.2453 - val_loss: 9.6218\n",
      "Epoch 44/250\n",
      "\u001b[1m278/278\u001b[0m \u001b[32m━━━━━━━━━━━━━━━━━━━━\u001b[0m\u001b[37m\u001b[0m \u001b[1m0s\u001b[0m 104ms/step - age_out_accuracy: 0.0450 - age_out_loss: 4.9526 - gender_out_accuracy: 0.9194 - gender_out_loss: 0.2002 - loss: 6.0408\n",
      "Epoch 44: val_loss did not improve from 7.60792\n",
      "\u001b[1m278/278\u001b[0m \u001b[32m━━━━━━━━━━━━━━━━━━━━\u001b[0m\u001b[37m\u001b[0m \u001b[1m31s\u001b[0m 112ms/step - age_out_accuracy: 0.0450 - age_out_loss: 4.9524 - gender_out_accuracy: 0.9194 - gender_out_loss: 0.2002 - loss: 6.0407 - val_age_out_accuracy: 0.0474 - val_age_out_loss: 7.5874 - val_gender_out_accuracy: 0.8681 - val_gender_out_loss: 0.2844 - val_loss: 8.7646\n",
      "Epoch 45/250\n",
      "\u001b[1m278/278\u001b[0m \u001b[32m━━━━━━━━━━━━━━━━━━━━\u001b[0m\u001b[37m\u001b[0m \u001b[1m0s\u001b[0m 103ms/step - age_out_accuracy: 0.0460 - age_out_loss: 4.8046 - gender_out_accuracy: 0.9137 - gender_out_loss: 0.2033 - loss: 5.9023\n",
      "Epoch 45: val_loss did not improve from 7.60792\n",
      "\u001b[1m278/278\u001b[0m \u001b[32m━━━━━━━━━━━━━━━━━━━━\u001b[0m\u001b[37m\u001b[0m \u001b[1m31s\u001b[0m 112ms/step - age_out_accuracy: 0.0460 - age_out_loss: 4.8049 - gender_out_accuracy: 0.9137 - gender_out_loss: 0.2034 - loss: 5.9026 - val_age_out_accuracy: 0.0474 - val_age_out_loss: 7.2275 - val_gender_out_accuracy: 0.8920 - val_gender_out_loss: 0.2536 - val_loss: 8.3855\n",
      "Epoch 46/250\n",
      "\u001b[1m278/278\u001b[0m \u001b[32m━━━━━━━━━━━━━━━━━━━━\u001b[0m\u001b[37m\u001b[0m \u001b[1m0s\u001b[0m 99ms/step - age_out_accuracy: 0.0493 - age_out_loss: 4.8307 - gender_out_accuracy: 0.9157 - gender_out_loss: 0.2084 - loss: 5.9433\n",
      "Epoch 46: val_loss did not improve from 7.60792\n",
      "\u001b[1m278/278\u001b[0m \u001b[32m━━━━━━━━━━━━━━━━━━━━\u001b[0m\u001b[37m\u001b[0m \u001b[1m30s\u001b[0m 108ms/step - age_out_accuracy: 0.0493 - age_out_loss: 4.8310 - gender_out_accuracy: 0.9157 - gender_out_loss: 0.2084 - loss: 5.9437 - val_age_out_accuracy: 0.0474 - val_age_out_loss: 7.8787 - val_gender_out_accuracy: 0.8966 - val_gender_out_loss: 0.2444 - val_loss: 9.0370\n",
      "Epoch 47/250\n",
      "\u001b[1m278/278\u001b[0m \u001b[32m━━━━━━━━━━━━━━━━━━━━\u001b[0m\u001b[37m\u001b[0m \u001b[1m0s\u001b[0m 92ms/step - age_out_accuracy: 0.0484 - age_out_loss: 4.8508 - gender_out_accuracy: 0.9130 - gender_out_loss: 0.2054 - loss: 5.9649\n",
      "Epoch 47: val_loss did not improve from 7.60792\n",
      "\u001b[1m278/278\u001b[0m \u001b[32m━━━━━━━━━━━━━━━━━━━━\u001b[0m\u001b[37m\u001b[0m \u001b[1m28s\u001b[0m 99ms/step - age_out_accuracy: 0.0484 - age_out_loss: 4.8510 - gender_out_accuracy: 0.9130 - gender_out_loss: 0.2054 - loss: 5.9651 - val_age_out_accuracy: 0.0474 - val_age_out_loss: 6.8697 - val_gender_out_accuracy: 0.8910 - val_gender_out_loss: 0.2437 - val_loss: 8.0301\n",
      "Epoch 48/250\n",
      "\u001b[1m278/278\u001b[0m \u001b[32m━━━━━━━━━━━━━━━━━━━━\u001b[0m\u001b[37m\u001b[0m \u001b[1m0s\u001b[0m 88ms/step - age_out_accuracy: 0.0466 - age_out_loss: 4.7341 - gender_out_accuracy: 0.9148 - gender_out_loss: 0.2019 - loss: 5.8500\n",
      "Epoch 48: val_loss did not improve from 7.60792\n",
      "\u001b[1m278/278\u001b[0m \u001b[32m━━━━━━━━━━━━━━━━━━━━\u001b[0m\u001b[37m\u001b[0m \u001b[1m27s\u001b[0m 96ms/step - age_out_accuracy: 0.0466 - age_out_loss: 4.7341 - gender_out_accuracy: 0.9148 - gender_out_loss: 0.2019 - loss: 5.8501 - val_age_out_accuracy: 0.0474 - val_age_out_loss: 7.6298 - val_gender_out_accuracy: 0.8986 - val_gender_out_loss: 0.2357 - val_loss: 8.7894\n",
      "Epoch 49/250\n",
      "\u001b[1m278/278\u001b[0m \u001b[32m━━━━━━━━━━━━━━━━━━━━\u001b[0m\u001b[37m\u001b[0m \u001b[1m0s\u001b[0m 88ms/step - age_out_accuracy: 0.0461 - age_out_loss: 4.7846 - gender_out_accuracy: 0.9187 - gender_out_loss: 0.1997 - loss: 5.9066\n",
      "Epoch 49: val_loss did not improve from 7.60792\n",
      "\u001b[1m278/278\u001b[0m \u001b[32m━━━━━━━━━━━━━━━━━━━━\u001b[0m\u001b[37m\u001b[0m \u001b[1m27s\u001b[0m 96ms/step - age_out_accuracy: 0.0461 - age_out_loss: 4.7846 - gender_out_accuracy: 0.9186 - gender_out_loss: 0.1997 - loss: 5.9067 - val_age_out_accuracy: 0.0474 - val_age_out_loss: 7.6217 - val_gender_out_accuracy: 0.8900 - val_gender_out_loss: 0.2391 - val_loss: 8.7924\n",
      "Epoch 50/250\n",
      "\u001b[1m278/278\u001b[0m \u001b[32m━━━━━━━━━━━━━━━━━━━━\u001b[0m\u001b[37m\u001b[0m \u001b[1m0s\u001b[0m 90ms/step - age_out_accuracy: 0.0463 - age_out_loss: 4.8054 - gender_out_accuracy: 0.9170 - gender_out_loss: 0.1971 - loss: 5.9310\n",
      "Epoch 50: val_loss did not improve from 7.60792\n",
      "\u001b[1m278/278\u001b[0m \u001b[32m━━━━━━━━━━━━━━━━━━━━\u001b[0m\u001b[37m\u001b[0m \u001b[1m27s\u001b[0m 98ms/step - age_out_accuracy: 0.0463 - age_out_loss: 4.8055 - gender_out_accuracy: 0.9170 - gender_out_loss: 0.1972 - loss: 5.9311 - val_age_out_accuracy: 0.0474 - val_age_out_loss: 7.5942 - val_gender_out_accuracy: 0.8920 - val_gender_out_loss: 0.2542 - val_loss: 8.7840\n",
      "Epoch 51/250\n",
      "\u001b[1m278/278\u001b[0m \u001b[32m━━━━━━━━━━━━━━━━━━━━\u001b[0m\u001b[37m\u001b[0m \u001b[1m0s\u001b[0m 92ms/step - age_out_accuracy: 0.0459 - age_out_loss: 4.7674 - gender_out_accuracy: 0.9180 - gender_out_loss: 0.1939 - loss: 5.8970\n",
      "Epoch 51: val_loss did not improve from 7.60792\n",
      "\u001b[1m278/278\u001b[0m \u001b[32m━━━━━━━━━━━━━━━━━━━━\u001b[0m\u001b[37m\u001b[0m \u001b[1m28s\u001b[0m 100ms/step - age_out_accuracy: 0.0459 - age_out_loss: 4.7675 - gender_out_accuracy: 0.9180 - gender_out_loss: 0.1939 - loss: 5.8971 - val_age_out_accuracy: 0.0474 - val_age_out_loss: 6.9757 - val_gender_out_accuracy: 0.8772 - val_gender_out_loss: 0.2655 - val_loss: 8.1870\n",
      "Epoch 52/250\n",
      "\u001b[1m278/278\u001b[0m \u001b[32m━━━━━━━━━━━━━━━━━━━━\u001b[0m\u001b[37m\u001b[0m \u001b[1m0s\u001b[0m 95ms/step - age_out_accuracy: 0.0475 - age_out_loss: 4.7236 - gender_out_accuracy: 0.9070 - gender_out_loss: 0.2090 - loss: 5.8753\n",
      "Epoch 52: val_loss did not improve from 7.60792\n",
      "\u001b[1m278/278\u001b[0m \u001b[32m━━━━━━━━━━━━━━━━━━━━\u001b[0m\u001b[37m\u001b[0m \u001b[1m29s\u001b[0m 103ms/step - age_out_accuracy: 0.0475 - age_out_loss: 4.7237 - gender_out_accuracy: 0.9070 - gender_out_loss: 0.2090 - loss: 5.8754 - val_age_out_accuracy: 0.0474 - val_age_out_loss: 7.0098 - val_gender_out_accuracy: 0.8912 - val_gender_out_loss: 0.2459 - val_loss: 8.2066\n",
      "Epoch 53/250\n",
      "\u001b[1m278/278\u001b[0m \u001b[32m━━━━━━━━━━━━━━━━━━━━\u001b[0m\u001b[37m\u001b[0m \u001b[1m0s\u001b[0m 96ms/step - age_out_accuracy: 0.0480 - age_out_loss: 4.7658 - gender_out_accuracy: 0.9189 - gender_out_loss: 0.1941 - loss: 5.9089\n",
      "Epoch 53: val_loss did not improve from 7.60792\n",
      "\u001b[1m278/278\u001b[0m \u001b[32m━━━━━━━━━━━━━━━━━━━━\u001b[0m\u001b[37m\u001b[0m \u001b[1m29s\u001b[0m 104ms/step - age_out_accuracy: 0.0480 - age_out_loss: 4.7658 - gender_out_accuracy: 0.9189 - gender_out_loss: 0.1941 - loss: 5.9088 - val_age_out_accuracy: 0.0474 - val_age_out_loss: 7.6414 - val_gender_out_accuracy: 0.8932 - val_gender_out_loss: 0.2446 - val_loss: 8.8451\n",
      "Epoch 54/250\n",
      "\u001b[1m278/278\u001b[0m \u001b[32m━━━━━━━━━━━━━━━━━━━━\u001b[0m\u001b[37m\u001b[0m \u001b[1m0s\u001b[0m 100ms/step - age_out_accuracy: 0.0486 - age_out_loss: 4.5894 - gender_out_accuracy: 0.9190 - gender_out_loss: 0.1945 - loss: 5.7392\n",
      "Epoch 54: val_loss did not improve from 7.60792\n",
      "\u001b[1m278/278\u001b[0m \u001b[32m━━━━━━━━━━━━━━━━━━━━\u001b[0m\u001b[37m\u001b[0m \u001b[1m30s\u001b[0m 110ms/step - age_out_accuracy: 0.0486 - age_out_loss: 4.5897 - gender_out_accuracy: 0.9190 - gender_out_loss: 0.1946 - loss: 5.7395 - val_age_out_accuracy: 0.0474 - val_age_out_loss: 7.1885 - val_gender_out_accuracy: 0.8861 - val_gender_out_loss: 0.2484 - val_loss: 8.3975\n",
      "Epoch 55/250\n",
      "\u001b[1m278/278\u001b[0m \u001b[32m━━━━━━━━━━━━━━━━━━━━\u001b[0m\u001b[37m\u001b[0m \u001b[1m0s\u001b[0m 116ms/step - age_out_accuracy: 0.0481 - age_out_loss: 4.6845 - gender_out_accuracy: 0.9191 - gender_out_loss: 0.1916 - loss: 5.8360\n",
      "Epoch 55: val_loss did not improve from 7.60792\n",
      "\u001b[1m278/278\u001b[0m \u001b[32m━━━━━━━━━━━━━━━━━━━━\u001b[0m\u001b[37m\u001b[0m \u001b[1m35s\u001b[0m 126ms/step - age_out_accuracy: 0.0481 - age_out_loss: 4.6847 - gender_out_accuracy: 0.9191 - gender_out_loss: 0.1916 - loss: 5.8362 - val_age_out_accuracy: 0.0474 - val_age_out_loss: 6.9477 - val_gender_out_accuracy: 0.8971 - val_gender_out_loss: 0.2434 - val_loss: 8.1578\n",
      "Epoch 56/250\n",
      "\u001b[1m278/278\u001b[0m \u001b[32m━━━━━━━━━━━━━━━━━━━━\u001b[0m\u001b[37m\u001b[0m \u001b[1m0s\u001b[0m 114ms/step - age_out_accuracy: 0.0468 - age_out_loss: 4.7341 - gender_out_accuracy: 0.9230 - gender_out_loss: 0.1901 - loss: 5.8889\n",
      "Epoch 56: val_loss did not improve from 7.60792\n",
      "\u001b[1m278/278\u001b[0m \u001b[32m━━━━━━━━━━━━━━━━━━━━\u001b[0m\u001b[37m\u001b[0m \u001b[1m34s\u001b[0m 123ms/step - age_out_accuracy: 0.0468 - age_out_loss: 4.7341 - gender_out_accuracy: 0.9230 - gender_out_loss: 0.1901 - loss: 5.8889 - val_age_out_accuracy: 0.0474 - val_age_out_loss: 7.0059 - val_gender_out_accuracy: 0.9005 - val_gender_out_loss: 0.2425 - val_loss: 8.2201\n",
      "Epoch 57/250\n",
      "\u001b[1m278/278\u001b[0m \u001b[32m━━━━━━━━━━━━━━━━━━━━\u001b[0m\u001b[37m\u001b[0m \u001b[1m0s\u001b[0m 105ms/step - age_out_accuracy: 0.0488 - age_out_loss: 4.5376 - gender_out_accuracy: 0.9210 - gender_out_loss: 0.1879 - loss: 5.6935\n",
      "Epoch 57: val_loss did not improve from 7.60792\n",
      "\u001b[1m278/278\u001b[0m \u001b[32m━━━━━━━━━━━━━━━━━━━━\u001b[0m\u001b[37m\u001b[0m \u001b[1m32s\u001b[0m 114ms/step - age_out_accuracy: 0.0488 - age_out_loss: 4.5379 - gender_out_accuracy: 0.9209 - gender_out_loss: 0.1879 - loss: 5.6938 - val_age_out_accuracy: 0.0474 - val_age_out_loss: 6.7770 - val_gender_out_accuracy: 0.8946 - val_gender_out_loss: 0.2422 - val_loss: 7.9945\n",
      "Epoch 58/250\n",
      "\u001b[1m278/278\u001b[0m \u001b[32m━━━━━━━━━━━━━━━━━━━━\u001b[0m\u001b[37m\u001b[0m \u001b[1m0s\u001b[0m 4s/step - age_out_accuracy: 0.0478 - age_out_loss: 4.6291 - gender_out_accuracy: 0.9212 - gender_out_loss: 0.1885 - loss: 5.7895\n",
      "Epoch 58: val_loss did not improve from 7.60792\n",
      "\u001b[1m278/278\u001b[0m \u001b[32m━━━━━━━━━━━━━━━━━━━━\u001b[0m\u001b[37m\u001b[0m \u001b[1m1026s\u001b[0m 4s/step - age_out_accuracy: 0.0478 - age_out_loss: 4.6296 - gender_out_accuracy: 0.9212 - gender_out_loss: 0.1885 - loss: 5.7899 - val_age_out_accuracy: 0.0474 - val_age_out_loss: 6.5797 - val_gender_out_accuracy: 0.8964 - val_gender_out_loss: 0.2474 - val_loss: 7.8070\n",
      "Epoch 59/250\n",
      "\u001b[1m278/278\u001b[0m \u001b[32m━━━━━━━━━━━━━━━━━━━━\u001b[0m\u001b[37m\u001b[0m \u001b[1m0s\u001b[0m 76ms/step - age_out_accuracy: 0.0499 - age_out_loss: 4.6612 - gender_out_accuracy: 0.9236 - gender_out_loss: 0.1893 - loss: 5.8296\n",
      "Epoch 59: val_loss did not improve from 7.60792\n",
      "\u001b[1m278/278\u001b[0m \u001b[32m━━━━━━━━━━━━━━━━━━━━\u001b[0m\u001b[37m\u001b[0m \u001b[1m23s\u001b[0m 83ms/step - age_out_accuracy: 0.0499 - age_out_loss: 4.6613 - gender_out_accuracy: 0.9236 - gender_out_loss: 0.1893 - loss: 5.8297 - val_age_out_accuracy: 0.0474 - val_age_out_loss: 6.7707 - val_gender_out_accuracy: 0.8986 - val_gender_out_loss: 0.2400 - val_loss: 7.9957\n",
      "Epoch 60/250\n",
      "\u001b[1m278/278\u001b[0m \u001b[32m━━━━━━━━━━━━━━━━━━━━\u001b[0m\u001b[37m\u001b[0m \u001b[1m0s\u001b[0m 225ms/step - age_out_accuracy: 0.0499 - age_out_loss: 4.5491 - gender_out_accuracy: 0.9238 - gender_out_loss: 0.1822 - loss: 5.7162\n",
      "Epoch 60: val_loss did not improve from 7.60792\n",
      "\u001b[1m278/278\u001b[0m \u001b[32m━━━━━━━━━━━━━━━━━━━━\u001b[0m\u001b[37m\u001b[0m \u001b[1m64s\u001b[0m 231ms/step - age_out_accuracy: 0.0499 - age_out_loss: 4.5492 - gender_out_accuracy: 0.9237 - gender_out_loss: 0.1822 - loss: 5.7163 - val_age_out_accuracy: 0.0474 - val_age_out_loss: 7.7493 - val_gender_out_accuracy: 0.9013 - val_gender_out_loss: 0.2374 - val_loss: 8.9798\n",
      "Epoch 61/250\n",
      "\u001b[1m278/278\u001b[0m \u001b[32m━━━━━━━━━━━━━━━━━━━━\u001b[0m\u001b[37m\u001b[0m \u001b[1m0s\u001b[0m 76ms/step - age_out_accuracy: 0.0476 - age_out_loss: 4.5664 - gender_out_accuracy: 0.9240 - gender_out_loss: 0.1804 - loss: 5.7369\n",
      "Epoch 61: val_loss did not improve from 7.60792\n",
      "\u001b[1m278/278\u001b[0m \u001b[32m━━━━━━━━━━━━━━━━━━━━\u001b[0m\u001b[37m\u001b[0m \u001b[1m23s\u001b[0m 82ms/step - age_out_accuracy: 0.0476 - age_out_loss: 4.5665 - gender_out_accuracy: 0.9240 - gender_out_loss: 0.1804 - loss: 5.7371 - val_age_out_accuracy: 0.0474 - val_age_out_loss: 6.5629 - val_gender_out_accuracy: 0.8956 - val_gender_out_loss: 0.2418 - val_loss: 7.7982\n",
      "Epoch 62/250\n",
      "\u001b[1m278/278\u001b[0m \u001b[32m━━━━━━━━━━━━━━━━━━━━\u001b[0m\u001b[37m\u001b[0m \u001b[1m0s\u001b[0m 75ms/step - age_out_accuracy: 0.0455 - age_out_loss: 4.5596 - gender_out_accuracy: 0.9241 - gender_out_loss: 0.1822 - loss: 5.7379\n",
      "Epoch 62: val_loss did not improve from 7.60792\n",
      "\u001b[1m278/278\u001b[0m \u001b[32m━━━━━━━━━━━━━━━━━━━━\u001b[0m\u001b[37m\u001b[0m \u001b[1m23s\u001b[0m 81ms/step - age_out_accuracy: 0.0455 - age_out_loss: 4.5597 - gender_out_accuracy: 0.9241 - gender_out_loss: 0.1822 - loss: 5.7380 - val_age_out_accuracy: 0.0474 - val_age_out_loss: 7.3244 - val_gender_out_accuracy: 0.8866 - val_gender_out_loss: 0.2495 - val_loss: 8.5766\n",
      "Epoch 63/250\n",
      "\u001b[1m278/278\u001b[0m \u001b[32m━━━━━━━━━━━━━━━━━━━━\u001b[0m\u001b[37m\u001b[0m \u001b[1m0s\u001b[0m 75ms/step - age_out_accuracy: 0.0468 - age_out_loss: 4.5917 - gender_out_accuracy: 0.9224 - gender_out_loss: 0.1880 - loss: 5.7800\n",
      "Epoch 63: val_loss did not improve from 7.60792\n",
      "\u001b[1m278/278\u001b[0m \u001b[32m━━━━━━━━━━━━━━━━━━━━\u001b[0m\u001b[37m\u001b[0m \u001b[1m23s\u001b[0m 81ms/step - age_out_accuracy: 0.0468 - age_out_loss: 4.5918 - gender_out_accuracy: 0.9224 - gender_out_loss: 0.1880 - loss: 5.7801 - val_age_out_accuracy: 0.0474 - val_age_out_loss: 7.0167 - val_gender_out_accuracy: 0.8919 - val_gender_out_loss: 0.2527 - val_loss: 8.2743\n",
      "Epoch 64/250\n",
      "\u001b[1m278/278\u001b[0m \u001b[32m━━━━━━━━━━━━━━━━━━━━\u001b[0m\u001b[37m\u001b[0m \u001b[1m0s\u001b[0m 77ms/step - age_out_accuracy: 0.0457 - age_out_loss: 4.5521 - gender_out_accuracy: 0.9203 - gender_out_loss: 0.1889 - loss: 5.7456\n",
      "Epoch 64: val_loss did not improve from 7.60792\n",
      "\u001b[1m278/278\u001b[0m \u001b[32m━━━━━━━━━━━━━━━━━━━━\u001b[0m\u001b[37m\u001b[0m \u001b[1m23s\u001b[0m 83ms/step - age_out_accuracy: 0.0457 - age_out_loss: 4.5521 - gender_out_accuracy: 0.9203 - gender_out_loss: 0.1889 - loss: 5.7456 - val_age_out_accuracy: 0.0474 - val_age_out_loss: 7.4198 - val_gender_out_accuracy: 0.9003 - val_gender_out_loss: 0.2403 - val_loss: 8.6773\n",
      "Epoch 65/250\n",
      "\u001b[1m278/278\u001b[0m \u001b[32m━━━━━━━━━━━━━━━━━━━━\u001b[0m\u001b[37m\u001b[0m \u001b[1m0s\u001b[0m 79ms/step - age_out_accuracy: 0.0459 - age_out_loss: 4.5273 - gender_out_accuracy: 0.9273 - gender_out_loss: 0.1789 - loss: 5.7168\n",
      "Epoch 65: val_loss did not improve from 7.60792\n",
      "\u001b[1m278/278\u001b[0m \u001b[32m━━━━━━━━━━━━━━━━━━━━\u001b[0m\u001b[37m\u001b[0m \u001b[1m24s\u001b[0m 86ms/step - age_out_accuracy: 0.0459 - age_out_loss: 4.5275 - gender_out_accuracy: 0.9273 - gender_out_loss: 0.1789 - loss: 5.7170 - val_age_out_accuracy: 0.0474 - val_age_out_loss: 7.6894 - val_gender_out_accuracy: 0.8951 - val_gender_out_loss: 0.2422 - val_loss: 8.9517\n",
      "Epoch 66/250\n",
      "\u001b[1m278/278\u001b[0m \u001b[32m━━━━━━━━━━━━━━━━━━━━\u001b[0m\u001b[37m\u001b[0m \u001b[1m0s\u001b[0m 78ms/step - age_out_accuracy: 0.0498 - age_out_loss: 4.4736 - gender_out_accuracy: 0.9201 - gender_out_loss: 0.1868 - loss: 5.6749\n",
      "Epoch 66: val_loss did not improve from 7.60792\n",
      "\u001b[1m278/278\u001b[0m \u001b[32m━━━━━━━━━━━━━━━━━━━━\u001b[0m\u001b[37m\u001b[0m \u001b[1m23s\u001b[0m 84ms/step - age_out_accuracy: 0.0498 - age_out_loss: 4.4738 - gender_out_accuracy: 0.9201 - gender_out_loss: 0.1868 - loss: 5.6751 - val_age_out_accuracy: 0.0474 - val_age_out_loss: 6.4488 - val_gender_out_accuracy: 0.8920 - val_gender_out_loss: 0.2489 - val_loss: 7.7155\n",
      "Epoch 67/250\n",
      "\u001b[1m278/278\u001b[0m \u001b[32m━━━━━━━━━━━━━━━━━━━━\u001b[0m\u001b[37m\u001b[0m \u001b[1m0s\u001b[0m 84ms/step - age_out_accuracy: 0.0479 - age_out_loss: 4.4527 - gender_out_accuracy: 0.9242 - gender_out_loss: 0.1808 - loss: 5.6513\n",
      "Epoch 67: val_loss did not improve from 7.60792\n",
      "\u001b[1m278/278\u001b[0m \u001b[32m━━━━━━━━━━━━━━━━━━━━\u001b[0m\u001b[37m\u001b[0m \u001b[1m25s\u001b[0m 91ms/step - age_out_accuracy: 0.0479 - age_out_loss: 4.4528 - gender_out_accuracy: 0.9242 - gender_out_loss: 0.1808 - loss: 5.6514 - val_age_out_accuracy: 0.0474 - val_age_out_loss: 7.5702 - val_gender_out_accuracy: 0.8900 - val_gender_out_loss: 0.2755 - val_loss: 8.8700\n",
      "Epoch 68/250\n",
      "\u001b[1m278/278\u001b[0m \u001b[32m━━━━━━━━━━━━━━━━━━━━\u001b[0m\u001b[37m\u001b[0m \u001b[1m0s\u001b[0m 105ms/step - age_out_accuracy: 0.0462 - age_out_loss: 4.4680 - gender_out_accuracy: 0.9273 - gender_out_loss: 0.1811 - loss: 5.6696\n",
      "Epoch 68: val_loss did not improve from 7.60792\n",
      "\u001b[1m278/278\u001b[0m \u001b[32m━━━━━━━━━━━━━━━━━━━━\u001b[0m\u001b[37m\u001b[0m \u001b[1m32s\u001b[0m 116ms/step - age_out_accuracy: 0.0462 - age_out_loss: 4.4683 - gender_out_accuracy: 0.9273 - gender_out_loss: 0.1811 - loss: 5.6699 - val_age_out_accuracy: 0.0474 - val_age_out_loss: 6.8559 - val_gender_out_accuracy: 0.8940 - val_gender_out_loss: 0.2440 - val_loss: 8.1256\n",
      "Epoch 69/250\n",
      "\u001b[1m278/278\u001b[0m \u001b[32m━━━━━━━━━━━━━━━━━━━━\u001b[0m\u001b[37m\u001b[0m \u001b[1m0s\u001b[0m 119ms/step - age_out_accuracy: 0.0464 - age_out_loss: 4.5276 - gender_out_accuracy: 0.9254 - gender_out_loss: 0.1804 - loss: 5.7312\n",
      "Epoch 69: val_loss did not improve from 7.60792\n",
      "\u001b[1m278/278\u001b[0m \u001b[32m━━━━━━━━━━━━━━━━━━━━\u001b[0m\u001b[37m\u001b[0m \u001b[1m36s\u001b[0m 129ms/step - age_out_accuracy: 0.0464 - age_out_loss: 4.5279 - gender_out_accuracy: 0.9254 - gender_out_loss: 0.1805 - loss: 5.7315 - val_age_out_accuracy: 0.0474 - val_age_out_loss: 6.5671 - val_gender_out_accuracy: 0.8972 - val_gender_out_loss: 0.2470 - val_loss: 7.8433\n",
      "Epoch 70/250\n",
      "\u001b[1m278/278\u001b[0m \u001b[32m━━━━━━━━━━━━━━━━━━━━\u001b[0m\u001b[37m\u001b[0m \u001b[1m0s\u001b[0m 109ms/step - age_out_accuracy: 0.0477 - age_out_loss: 4.4487 - gender_out_accuracy: 0.9301 - gender_out_loss: 0.1768 - loss: 5.6532\n",
      "Epoch 70: val_loss did not improve from 7.60792\n",
      "\u001b[1m278/278\u001b[0m \u001b[32m━━━━━━━━━━━━━━━━━━━━\u001b[0m\u001b[37m\u001b[0m \u001b[1m33s\u001b[0m 118ms/step - age_out_accuracy: 0.0477 - age_out_loss: 4.4489 - gender_out_accuracy: 0.9301 - gender_out_loss: 0.1768 - loss: 5.6534 - val_age_out_accuracy: 0.0474 - val_age_out_loss: 6.4495 - val_gender_out_accuracy: 0.8919 - val_gender_out_loss: 0.2464 - val_loss: 7.7306\n",
      "Epoch 71/250\n",
      "\u001b[1m278/278\u001b[0m \u001b[32m━━━━━━━━━━━━━━━━━━━━\u001b[0m\u001b[37m\u001b[0m \u001b[1m0s\u001b[0m 109ms/step - age_out_accuracy: 0.0497 - age_out_loss: 4.4919 - gender_out_accuracy: 0.9296 - gender_out_loss: 0.1752 - loss: 5.7001\n",
      "Epoch 71: val_loss did not improve from 7.60792\n",
      "\u001b[1m278/278\u001b[0m \u001b[32m━━━━━━━━━━━━━━━━━━━━\u001b[0m\u001b[37m\u001b[0m \u001b[1m33s\u001b[0m 120ms/step - age_out_accuracy: 0.0497 - age_out_loss: 4.4918 - gender_out_accuracy: 0.9296 - gender_out_loss: 0.1753 - loss: 5.7001 - val_age_out_accuracy: 0.0474 - val_age_out_loss: 6.7232 - val_gender_out_accuracy: 0.9005 - val_gender_out_loss: 0.2502 - val_loss: 8.0154\n",
      "Epoch 72/250\n",
      "\u001b[1m278/278\u001b[0m \u001b[32m━━━━━━━━━━━━━━━━━━━━\u001b[0m\u001b[37m\u001b[0m \u001b[1m0s\u001b[0m 121ms/step - age_out_accuracy: 0.0452 - age_out_loss: 4.5271 - gender_out_accuracy: 0.9259 - gender_out_loss: 0.1791 - loss: 5.7431\n",
      "Epoch 72: val_loss did not improve from 7.60792\n",
      "\u001b[1m278/278\u001b[0m \u001b[32m━━━━━━━━━━━━━━━━━━━━\u001b[0m\u001b[37m\u001b[0m \u001b[1m37s\u001b[0m 133ms/step - age_out_accuracy: 0.0452 - age_out_loss: 4.5271 - gender_out_accuracy: 0.9259 - gender_out_loss: 0.1791 - loss: 5.7431 - val_age_out_accuracy: 0.0474 - val_age_out_loss: 7.9557 - val_gender_out_accuracy: 0.8993 - val_gender_out_loss: 0.2401 - val_loss: 9.2425\n",
      "Epoch 73/250\n",
      "\u001b[1m278/278\u001b[0m \u001b[32m━━━━━━━━━━━━━━━━━━━━\u001b[0m\u001b[37m\u001b[0m \u001b[1m0s\u001b[0m 114ms/step - age_out_accuracy: 0.0453 - age_out_loss: 4.4264 - gender_out_accuracy: 0.9264 - gender_out_loss: 0.1709 - loss: 5.6384\n",
      "Epoch 73: val_loss did not improve from 7.60792\n",
      "\u001b[1m278/278\u001b[0m \u001b[32m━━━━━━━━━━━━━━━━━━━━\u001b[0m\u001b[37m\u001b[0m \u001b[1m36s\u001b[0m 129ms/step - age_out_accuracy: 0.0453 - age_out_loss: 4.4265 - gender_out_accuracy: 0.9264 - gender_out_loss: 0.1709 - loss: 5.6386 - val_age_out_accuracy: 0.0474 - val_age_out_loss: 7.6792 - val_gender_out_accuracy: 0.8892 - val_gender_out_loss: 0.2567 - val_loss: 8.9859\n",
      "Epoch 74/250\n",
      "\u001b[1m278/278\u001b[0m \u001b[32m━━━━━━━━━━━━━━━━━━━━\u001b[0m\u001b[37m\u001b[0m \u001b[1m0s\u001b[0m 137ms/step - age_out_accuracy: 0.0452 - age_out_loss: 4.4069 - gender_out_accuracy: 0.9283 - gender_out_loss: 0.1761 - loss: 5.6282\n",
      "Epoch 74: val_loss did not improve from 7.60792\n",
      "\u001b[1m278/278\u001b[0m \u001b[32m━━━━━━━━━━━━━━━━━━━━\u001b[0m\u001b[37m\u001b[0m \u001b[1m41s\u001b[0m 149ms/step - age_out_accuracy: 0.0452 - age_out_loss: 4.4071 - gender_out_accuracy: 0.9283 - gender_out_loss: 0.1761 - loss: 5.6284 - val_age_out_accuracy: 0.0474 - val_age_out_loss: 7.4225 - val_gender_out_accuracy: 0.8919 - val_gender_out_loss: 0.2554 - val_loss: 8.7331\n",
      "Epoch 75/250\n",
      "\u001b[1m278/278\u001b[0m \u001b[32m━━━━━━━━━━━━━━━━━━━━\u001b[0m\u001b[37m\u001b[0m \u001b[1m0s\u001b[0m 139ms/step - age_out_accuracy: 0.0455 - age_out_loss: 4.4646 - gender_out_accuracy: 0.9290 - gender_out_loss: 0.1726 - loss: 5.6872\n",
      "Epoch 75: val_loss did not improve from 7.60792\n",
      "\u001b[1m278/278\u001b[0m \u001b[32m━━━━━━━━━━━━━━━━━━━━\u001b[0m\u001b[37m\u001b[0m \u001b[1m42s\u001b[0m 150ms/step - age_out_accuracy: 0.0455 - age_out_loss: 4.4645 - gender_out_accuracy: 0.9290 - gender_out_loss: 0.1727 - loss: 5.6872 - val_age_out_accuracy: 0.0474 - val_age_out_loss: 6.5118 - val_gender_out_accuracy: 0.8952 - val_gender_out_loss: 0.2602 - val_loss: 7.8293\n",
      "Epoch 76/250\n",
      "\u001b[1m278/278\u001b[0m \u001b[32m━━━━━━━━━━━━━━━━━━━━\u001b[0m\u001b[37m\u001b[0m \u001b[1m0s\u001b[0m 132ms/step - age_out_accuracy: 0.0452 - age_out_loss: 4.4639 - gender_out_accuracy: 0.9310 - gender_out_loss: 0.1727 - loss: 5.6906\n",
      "Epoch 76: val_loss did not improve from 7.60792\n",
      "\u001b[1m278/278\u001b[0m \u001b[32m━━━━━━━━━━━━━━━━━━━━\u001b[0m\u001b[37m\u001b[0m \u001b[1m40s\u001b[0m 143ms/step - age_out_accuracy: 0.0452 - age_out_loss: 4.4639 - gender_out_accuracy: 0.9310 - gender_out_loss: 0.1727 - loss: 5.6907 - val_age_out_accuracy: 0.0474 - val_age_out_loss: 6.8197 - val_gender_out_accuracy: 0.8971 - val_gender_out_loss: 0.2498 - val_loss: 8.1304\n",
      "Epoch 77/250\n",
      "\u001b[1m278/278\u001b[0m \u001b[32m━━━━━━━━━━━━━━━━━━━━\u001b[0m\u001b[37m\u001b[0m \u001b[1m0s\u001b[0m 116ms/step - age_out_accuracy: 0.0461 - age_out_loss: 4.3782 - gender_out_accuracy: 0.9288 - gender_out_loss: 0.1753 - loss: 5.6103\n",
      "Epoch 77: val_loss did not improve from 7.60792\n",
      "\u001b[1m278/278\u001b[0m \u001b[32m━━━━━━━━━━━━━━━━━━━━\u001b[0m\u001b[37m\u001b[0m \u001b[1m35s\u001b[0m 126ms/step - age_out_accuracy: 0.0461 - age_out_loss: 4.3784 - gender_out_accuracy: 0.9288 - gender_out_loss: 0.1754 - loss: 5.6104 - val_age_out_accuracy: 0.0474 - val_age_out_loss: 7.0068 - val_gender_out_accuracy: 0.8753 - val_gender_out_loss: 0.2680 - val_loss: 8.3400\n",
      "Epoch 78/250\n",
      "\u001b[1m278/278\u001b[0m \u001b[32m━━━━━━━━━━━━━━━━━━━━\u001b[0m\u001b[37m\u001b[0m \u001b[1m0s\u001b[0m 112ms/step - age_out_accuracy: 0.0443 - age_out_loss: 4.3955 - gender_out_accuracy: 0.9254 - gender_out_loss: 0.1814 - loss: 5.6381\n",
      "Epoch 78: val_loss did not improve from 7.60792\n",
      "\u001b[1m278/278\u001b[0m \u001b[32m━━━━━━━━━━━━━━━━━━━━\u001b[0m\u001b[37m\u001b[0m \u001b[1m34s\u001b[0m 121ms/step - age_out_accuracy: 0.0443 - age_out_loss: 4.3955 - gender_out_accuracy: 0.9254 - gender_out_loss: 0.1814 - loss: 5.6381 - val_age_out_accuracy: 0.0474 - val_age_out_loss: 7.8265 - val_gender_out_accuracy: 0.8929 - val_gender_out_loss: 0.2690 - val_loss: 9.1653\n",
      "Epoch 79/250\n",
      "\u001b[1m278/278\u001b[0m \u001b[32m━━━━━━━━━━━━━━━━━━━━\u001b[0m\u001b[37m\u001b[0m \u001b[1m0s\u001b[0m 118ms/step - age_out_accuracy: 0.0448 - age_out_loss: 4.5109 - gender_out_accuracy: 0.9284 - gender_out_loss: 0.1747 - loss: 5.7503\n",
      "Epoch 79: val_loss did not improve from 7.60792\n",
      "\u001b[1m278/278\u001b[0m \u001b[32m━━━━━━━━━━━━━━━━━━━━\u001b[0m\u001b[37m\u001b[0m \u001b[1m36s\u001b[0m 128ms/step - age_out_accuracy: 0.0448 - age_out_loss: 4.5109 - gender_out_accuracy: 0.9284 - gender_out_loss: 0.1747 - loss: 5.7503 - val_age_out_accuracy: 0.0474 - val_age_out_loss: 6.3601 - val_gender_out_accuracy: 0.8976 - val_gender_out_loss: 0.2532 - val_loss: 7.6856\n",
      "Epoch 80/250\n",
      "\u001b[1m278/278\u001b[0m \u001b[32m━━━━━━━━━━━━━━━━━━━━\u001b[0m\u001b[37m\u001b[0m \u001b[1m0s\u001b[0m 125ms/step - age_out_accuracy: 0.0475 - age_out_loss: 4.4435 - gender_out_accuracy: 0.9332 - gender_out_loss: 0.1710 - loss: 5.6830\n",
      "Epoch 80: val_loss did not improve from 7.60792\n",
      "\u001b[1m278/278\u001b[0m \u001b[32m━━━━━━━━━━━━━━━━━━━━\u001b[0m\u001b[37m\u001b[0m \u001b[1m38s\u001b[0m 135ms/step - age_out_accuracy: 0.0475 - age_out_loss: 4.4436 - gender_out_accuracy: 0.9331 - gender_out_loss: 0.1710 - loss: 5.6831 - val_age_out_accuracy: 0.0474 - val_age_out_loss: 6.4075 - val_gender_out_accuracy: 0.8984 - val_gender_out_loss: 0.2576 - val_loss: 7.7400\n",
      "Epoch 81/250\n",
      "\u001b[1m278/278\u001b[0m \u001b[32m━━━━━━━━━━━━━━━━━━━━\u001b[0m\u001b[37m\u001b[0m \u001b[1m0s\u001b[0m 132ms/step - age_out_accuracy: 0.0451 - age_out_loss: 4.4032 - gender_out_accuracy: 0.9293 - gender_out_loss: 0.1712 - loss: 5.6453\n",
      "Epoch 81: val_loss did not improve from 7.60792\n",
      "\u001b[1m278/278\u001b[0m \u001b[32m━━━━━━━━━━━━━━━━━━━━\u001b[0m\u001b[37m\u001b[0m \u001b[1m40s\u001b[0m 144ms/step - age_out_accuracy: 0.0451 - age_out_loss: 4.4032 - gender_out_accuracy: 0.9292 - gender_out_loss: 0.1712 - loss: 5.6453 - val_age_out_accuracy: 0.0474 - val_age_out_loss: 6.5276 - val_gender_out_accuracy: 0.8988 - val_gender_out_loss: 0.2552 - val_loss: 7.8620\n",
      "Epoch 82/250\n",
      "\u001b[1m278/278\u001b[0m \u001b[32m━━━━━━━━━━━━━━━━━━━━\u001b[0m\u001b[37m\u001b[0m \u001b[1m0s\u001b[0m 130ms/step - age_out_accuracy: 0.0471 - age_out_loss: 4.4399 - gender_out_accuracy: 0.9287 - gender_out_loss: 0.1729 - loss: 5.6865\n",
      "Epoch 82: val_loss did not improve from 7.60792\n",
      "\u001b[1m278/278\u001b[0m \u001b[32m━━━━━━━━━━━━━━━━━━━━\u001b[0m\u001b[37m\u001b[0m \u001b[1m39s\u001b[0m 140ms/step - age_out_accuracy: 0.0471 - age_out_loss: 4.4399 - gender_out_accuracy: 0.9287 - gender_out_loss: 0.1730 - loss: 5.6865 - val_age_out_accuracy: 0.0474 - val_age_out_loss: 7.0711 - val_gender_out_accuracy: 0.8961 - val_gender_out_loss: 0.2620 - val_loss: 8.4157\n",
      "Epoch 83/250\n",
      "\u001b[1m278/278\u001b[0m \u001b[32m━━━━━━━━━━━━━━━━━━━━\u001b[0m\u001b[37m\u001b[0m \u001b[1m0s\u001b[0m 134ms/step - age_out_accuracy: 0.0454 - age_out_loss: 4.3283 - gender_out_accuracy: 0.9251 - gender_out_loss: 0.1784 - loss: 5.5811\n",
      "Epoch 83: val_loss did not improve from 7.60792\n",
      "\u001b[1m278/278\u001b[0m \u001b[32m━━━━━━━━━━━━━━━━━━━━\u001b[0m\u001b[37m\u001b[0m \u001b[1m41s\u001b[0m 146ms/step - age_out_accuracy: 0.0454 - age_out_loss: 4.3284 - gender_out_accuracy: 0.9251 - gender_out_loss: 0.1784 - loss: 5.5812 - val_age_out_accuracy: 0.0474 - val_age_out_loss: 6.5478 - val_gender_out_accuracy: 0.8935 - val_gender_out_loss: 0.2462 - val_loss: 7.8766\n",
      "Epoch 84/250\n",
      "\u001b[1m278/278\u001b[0m \u001b[32m━━━━━━━━━━━━━━━━━━━━\u001b[0m\u001b[37m\u001b[0m \u001b[1m0s\u001b[0m 140ms/step - age_out_accuracy: 0.0452 - age_out_loss: 4.3574 - gender_out_accuracy: 0.9300 - gender_out_loss: 0.1728 - loss: 5.6079\n",
      "Epoch 84: val_loss did not improve from 7.60792\n",
      "\u001b[1m278/278\u001b[0m \u001b[32m━━━━━━━━━━━━━━━━━━━━\u001b[0m\u001b[37m\u001b[0m \u001b[1m43s\u001b[0m 153ms/step - age_out_accuracy: 0.0452 - age_out_loss: 4.3574 - gender_out_accuracy: 0.9300 - gender_out_loss: 0.1728 - loss: 5.6079 - val_age_out_accuracy: 0.0474 - val_age_out_loss: 6.8200 - val_gender_out_accuracy: 0.8924 - val_gender_out_loss: 0.2617 - val_loss: 8.1715\n",
      "Epoch 85/250\n",
      "\u001b[1m278/278\u001b[0m \u001b[32m━━━━━━━━━━━━━━━━━━━━\u001b[0m\u001b[37m\u001b[0m \u001b[1m0s\u001b[0m 145ms/step - age_out_accuracy: 0.0472 - age_out_loss: 4.3826 - gender_out_accuracy: 0.9306 - gender_out_loss: 0.1703 - loss: 5.6347\n",
      "Epoch 85: val_loss did not improve from 7.60792\n",
      "\u001b[1m278/278\u001b[0m \u001b[32m━━━━━━━━━━━━━━━━━━━━\u001b[0m\u001b[37m\u001b[0m \u001b[1m44s\u001b[0m 157ms/step - age_out_accuracy: 0.0472 - age_out_loss: 4.3827 - gender_out_accuracy: 0.9306 - gender_out_loss: 0.1703 - loss: 5.6348 - val_age_out_accuracy: 0.0474 - val_age_out_loss: 6.5053 - val_gender_out_accuracy: 0.8971 - val_gender_out_loss: 0.2564 - val_loss: 7.8523\n",
      "Epoch 86/250\n",
      "\u001b[1m278/278\u001b[0m \u001b[32m━━━━━━━━━━━━━━━━━━━━\u001b[0m\u001b[37m\u001b[0m \u001b[1m0s\u001b[0m 148ms/step - age_out_accuracy: 0.0447 - age_out_loss: 4.3400 - gender_out_accuracy: 0.9257 - gender_out_loss: 0.1744 - loss: 5.5988\n",
      "Epoch 86: val_loss did not improve from 7.60792\n",
      "\u001b[1m278/278\u001b[0m \u001b[32m━━━━━━━━━━━━━━━━━━━━\u001b[0m\u001b[37m\u001b[0m \u001b[1m45s\u001b[0m 161ms/step - age_out_accuracy: 0.0447 - age_out_loss: 4.3401 - gender_out_accuracy: 0.9257 - gender_out_loss: 0.1744 - loss: 5.5989 - val_age_out_accuracy: 0.0474 - val_age_out_loss: 6.8984 - val_gender_out_accuracy: 0.8927 - val_gender_out_loss: 0.2491 - val_loss: 8.2403\n",
      "Epoch 87/250\n",
      "\u001b[1m278/278\u001b[0m \u001b[32m━━━━━━━━━━━━━━━━━━━━\u001b[0m\u001b[37m\u001b[0m \u001b[1m0s\u001b[0m 143ms/step - age_out_accuracy: 0.0462 - age_out_loss: 4.3367 - gender_out_accuracy: 0.9273 - gender_out_loss: 0.1738 - loss: 5.5973\n",
      "Epoch 87: val_loss did not improve from 7.60792\n",
      "\u001b[1m278/278\u001b[0m \u001b[32m━━━━━━━━━━━━━━━━━━━━\u001b[0m\u001b[37m\u001b[0m \u001b[1m43s\u001b[0m 156ms/step - age_out_accuracy: 0.0462 - age_out_loss: 4.3367 - gender_out_accuracy: 0.9273 - gender_out_loss: 0.1738 - loss: 5.5972 - val_age_out_accuracy: 0.0474 - val_age_out_loss: 6.3621 - val_gender_out_accuracy: 0.8967 - val_gender_out_loss: 0.2630 - val_loss: 7.7143\n",
      "Epoch 88/250\n",
      "\u001b[1m278/278\u001b[0m \u001b[32m━━━━━━━━━━━━━━━━━━━━\u001b[0m\u001b[37m\u001b[0m \u001b[1m0s\u001b[0m 145ms/step - age_out_accuracy: 0.0443 - age_out_loss: 4.4039 - gender_out_accuracy: 0.9311 - gender_out_loss: 0.1679 - loss: 5.6595\n",
      "Epoch 88: val_loss did not improve from 7.60792\n",
      "\u001b[1m278/278\u001b[0m \u001b[32m━━━━━━━━━━━━━━━━━━━━\u001b[0m\u001b[37m\u001b[0m \u001b[1m44s\u001b[0m 157ms/step - age_out_accuracy: 0.0444 - age_out_loss: 4.4039 - gender_out_accuracy: 0.9311 - gender_out_loss: 0.1680 - loss: 5.6595 - val_age_out_accuracy: 0.0474 - val_age_out_loss: 7.1858 - val_gender_out_accuracy: 0.8952 - val_gender_out_loss: 0.2482 - val_loss: 8.5300\n",
      "Epoch 89/250\n",
      "\u001b[1m278/278\u001b[0m \u001b[32m━━━━━━━━━━━━━━━━━━━━\u001b[0m\u001b[37m\u001b[0m \u001b[1m0s\u001b[0m 142ms/step - age_out_accuracy: 0.0429 - age_out_loss: 4.3493 - gender_out_accuracy: 0.9335 - gender_out_loss: 0.1646 - loss: 5.6046\n",
      "Epoch 89: val_loss did not improve from 7.60792\n",
      "\u001b[1m278/278\u001b[0m \u001b[32m━━━━━━━━━━━━━━━━━━━━\u001b[0m\u001b[37m\u001b[0m \u001b[1m43s\u001b[0m 155ms/step - age_out_accuracy: 0.0429 - age_out_loss: 4.3494 - gender_out_accuracy: 0.9335 - gender_out_loss: 0.1646 - loss: 5.6047 - val_age_out_accuracy: 0.0474 - val_age_out_loss: 7.1413 - val_gender_out_accuracy: 0.8983 - val_gender_out_loss: 0.2575 - val_loss: 8.4948\n",
      "Epoch 90/250\n",
      "\u001b[1m278/278\u001b[0m \u001b[32m━━━━━━━━━━━━━━━━━━━━\u001b[0m\u001b[37m\u001b[0m \u001b[1m0s\u001b[0m 141ms/step - age_out_accuracy: 0.0464 - age_out_loss: 4.2283 - gender_out_accuracy: 0.9319 - gender_out_loss: 0.1659 - loss: 5.4856\n",
      "Epoch 90: val_loss did not improve from 7.60792\n",
      "\u001b[1m278/278\u001b[0m \u001b[32m━━━━━━━━━━━━━━━━━━━━\u001b[0m\u001b[37m\u001b[0m \u001b[1m43s\u001b[0m 153ms/step - age_out_accuracy: 0.0464 - age_out_loss: 4.2287 - gender_out_accuracy: 0.9319 - gender_out_loss: 0.1660 - loss: 5.4861 - val_age_out_accuracy: 0.0474 - val_age_out_loss: 7.4196 - val_gender_out_accuracy: 0.8908 - val_gender_out_loss: 0.2810 - val_loss: 8.7990\n",
      "Epoch 91/250\n",
      "\u001b[1m278/278\u001b[0m \u001b[32m━━━━━━━━━━━━━━━━━━━━\u001b[0m\u001b[37m\u001b[0m \u001b[1m0s\u001b[0m 137ms/step - age_out_accuracy: 0.0433 - age_out_loss: 4.3050 - gender_out_accuracy: 0.9324 - gender_out_loss: 0.1634 - loss: 5.5633\n",
      "Epoch 91: val_loss did not improve from 7.60792\n",
      "\u001b[1m278/278\u001b[0m \u001b[32m━━━━━━━━━━━━━━━━━━━━\u001b[0m\u001b[37m\u001b[0m \u001b[1m41s\u001b[0m 148ms/step - age_out_accuracy: 0.0433 - age_out_loss: 4.3051 - gender_out_accuracy: 0.9324 - gender_out_loss: 0.1635 - loss: 5.5634 - val_age_out_accuracy: 0.0474 - val_age_out_loss: 6.7661 - val_gender_out_accuracy: 0.8778 - val_gender_out_loss: 0.2735 - val_loss: 8.1388\n",
      "Epoch 92/250\n",
      "\u001b[1m278/278\u001b[0m \u001b[32m━━━━━━━━━━━━━━━━━━━━\u001b[0m\u001b[37m\u001b[0m \u001b[1m0s\u001b[0m 134ms/step - age_out_accuracy: 0.0435 - age_out_loss: 4.3436 - gender_out_accuracy: 0.9326 - gender_out_loss: 0.1654 - loss: 5.6065\n",
      "Epoch 92: val_loss did not improve from 7.60792\n",
      "\u001b[1m278/278\u001b[0m \u001b[32m━━━━━━━━━━━━━━━━━━━━\u001b[0m\u001b[37m\u001b[0m \u001b[1m41s\u001b[0m 146ms/step - age_out_accuracy: 0.0435 - age_out_loss: 4.3437 - gender_out_accuracy: 0.9326 - gender_out_loss: 0.1654 - loss: 5.6067 - val_age_out_accuracy: 0.0474 - val_age_out_loss: 7.5578 - val_gender_out_accuracy: 0.8848 - val_gender_out_loss: 0.2592 - val_loss: 8.9229\n",
      "Epoch 93/250\n",
      "\u001b[1m278/278\u001b[0m \u001b[32m━━━━━━━━━━━━━━━━━━━━\u001b[0m\u001b[37m\u001b[0m \u001b[1m0s\u001b[0m 137ms/step - age_out_accuracy: 0.0458 - age_out_loss: 4.2524 - gender_out_accuracy: 0.9313 - gender_out_loss: 0.1644 - loss: 5.5177\n",
      "Epoch 93: val_loss did not improve from 7.60792\n",
      "\u001b[1m278/278\u001b[0m \u001b[32m━━━━━━━━━━━━━━━━━━━━\u001b[0m\u001b[37m\u001b[0m \u001b[1m42s\u001b[0m 150ms/step - age_out_accuracy: 0.0458 - age_out_loss: 4.2527 - gender_out_accuracy: 0.9313 - gender_out_loss: 0.1644 - loss: 5.5180 - val_age_out_accuracy: 0.0474 - val_age_out_loss: 8.1654 - val_gender_out_accuracy: 0.8876 - val_gender_out_loss: 0.2620 - val_loss: 9.5379\n",
      "Epoch 94/250\n",
      "\u001b[1m278/278\u001b[0m \u001b[32m━━━━━━━━━━━━━━━━━━━━\u001b[0m\u001b[37m\u001b[0m \u001b[1m0s\u001b[0m 136ms/step - age_out_accuracy: 0.0442 - age_out_loss: 4.3488 - gender_out_accuracy: 0.9295 - gender_out_loss: 0.1693 - loss: 5.6221\n",
      "Epoch 94: val_loss did not improve from 7.60792\n",
      "\u001b[1m278/278\u001b[0m \u001b[32m━━━━━━━━━━━━━━━━━━━━\u001b[0m\u001b[37m\u001b[0m \u001b[1m41s\u001b[0m 146ms/step - age_out_accuracy: 0.0442 - age_out_loss: 4.3487 - gender_out_accuracy: 0.9295 - gender_out_loss: 0.1693 - loss: 5.6221 - val_age_out_accuracy: 0.0474 - val_age_out_loss: 7.0486 - val_gender_out_accuracy: 0.8988 - val_gender_out_loss: 0.2499 - val_loss: 8.4108\n",
      "Epoch 95/250\n",
      "\u001b[1m278/278\u001b[0m \u001b[32m━━━━━━━━━━━━━━━━━━━━\u001b[0m\u001b[37m\u001b[0m \u001b[1m0s\u001b[0m 105ms/step - age_out_accuracy: 0.0446 - age_out_loss: 4.3044 - gender_out_accuracy: 0.9288 - gender_out_loss: 0.1690 - loss: 5.5798\n",
      "Epoch 95: val_loss did not improve from 7.60792\n",
      "\u001b[1m278/278\u001b[0m \u001b[32m━━━━━━━━━━━━━━━━━━━━\u001b[0m\u001b[37m\u001b[0m \u001b[1m32s\u001b[0m 113ms/step - age_out_accuracy: 0.0446 - age_out_loss: 4.3043 - gender_out_accuracy: 0.9288 - gender_out_loss: 0.1690 - loss: 5.5797 - val_age_out_accuracy: 0.0474 - val_age_out_loss: 6.7149 - val_gender_out_accuracy: 0.8984 - val_gender_out_loss: 0.2556 - val_loss: 8.0856\n",
      "Epoch 96/250\n",
      "\u001b[1m278/278\u001b[0m \u001b[32m━━━━━━━━━━━━━━━━━━━━\u001b[0m\u001b[37m\u001b[0m \u001b[1m0s\u001b[0m 97ms/step - age_out_accuracy: 0.0457 - age_out_loss: 4.2501 - gender_out_accuracy: 0.9314 - gender_out_loss: 0.1629 - loss: 5.5221\n",
      "Epoch 96: val_loss did not improve from 7.60792\n",
      "\u001b[1m278/278\u001b[0m \u001b[32m━━━━━━━━━━━━━━━━━━━━\u001b[0m\u001b[37m\u001b[0m \u001b[1m29s\u001b[0m 105ms/step - age_out_accuracy: 0.0457 - age_out_loss: 4.2502 - gender_out_accuracy: 0.9314 - gender_out_loss: 0.1629 - loss: 5.5222 - val_age_out_accuracy: 0.0474 - val_age_out_loss: 6.9569 - val_gender_out_accuracy: 0.8934 - val_gender_out_loss: 0.2749 - val_loss: 8.3490\n",
      "Epoch 97/250\n",
      "\u001b[1m278/278\u001b[0m \u001b[32m━━━━━━━━━━━━━━━━━━━━\u001b[0m\u001b[37m\u001b[0m \u001b[1m0s\u001b[0m 97ms/step - age_out_accuracy: 0.0436 - age_out_loss: 4.3162 - gender_out_accuracy: 0.9309 - gender_out_loss: 0.1689 - loss: 5.5972\n",
      "Epoch 97: val_loss did not improve from 7.60792\n",
      "\u001b[1m278/278\u001b[0m \u001b[32m━━━━━━━━━━━━━━━━━━━━\u001b[0m\u001b[37m\u001b[0m \u001b[1m29s\u001b[0m 105ms/step - age_out_accuracy: 0.0436 - age_out_loss: 4.3162 - gender_out_accuracy: 0.9309 - gender_out_loss: 0.1688 - loss: 5.5973 - val_age_out_accuracy: 0.0474 - val_age_out_loss: 7.1288 - val_gender_out_accuracy: 0.8962 - val_gender_out_loss: 0.2547 - val_loss: 8.5025\n",
      "Epoch 98/250\n",
      "\u001b[1m278/278\u001b[0m \u001b[32m━━━━━━━━━━━━━━━━━━━━\u001b[0m\u001b[37m\u001b[0m \u001b[1m0s\u001b[0m 99ms/step - age_out_accuracy: 0.0444 - age_out_loss: 4.3322 - gender_out_accuracy: 0.9320 - gender_out_loss: 0.1607 - loss: 5.6064\n",
      "Epoch 98: val_loss did not improve from 7.60792\n",
      "\u001b[1m278/278\u001b[0m \u001b[32m━━━━━━━━━━━━━━━━━━━━\u001b[0m\u001b[37m\u001b[0m \u001b[1m30s\u001b[0m 108ms/step - age_out_accuracy: 0.0444 - age_out_loss: 4.3321 - gender_out_accuracy: 0.9320 - gender_out_loss: 0.1608 - loss: 5.6064 - val_age_out_accuracy: 0.0474 - val_age_out_loss: 7.0551 - val_gender_out_accuracy: 0.8957 - val_gender_out_loss: 0.2584 - val_loss: 8.4353\n",
      "Epoch 99/250\n",
      "\u001b[1m278/278\u001b[0m \u001b[32m━━━━━━━━━━━━━━━━━━━━\u001b[0m\u001b[37m\u001b[0m \u001b[1m0s\u001b[0m 100ms/step - age_out_accuracy: 0.0425 - age_out_loss: 4.3081 - gender_out_accuracy: 0.9326 - gender_out_loss: 0.1610 - loss: 5.5855\n",
      "Epoch 99: val_loss did not improve from 7.60792\n",
      "\u001b[1m278/278\u001b[0m \u001b[32m━━━━━━━━━━━━━━━━━━━━\u001b[0m\u001b[37m\u001b[0m \u001b[1m30s\u001b[0m 108ms/step - age_out_accuracy: 0.0425 - age_out_loss: 4.3079 - gender_out_accuracy: 0.9326 - gender_out_loss: 0.1610 - loss: 5.5854 - val_age_out_accuracy: 0.0474 - val_age_out_loss: 6.6355 - val_gender_out_accuracy: 0.8924 - val_gender_out_loss: 0.2504 - val_loss: 8.0054\n",
      "Epoch 100/250\n",
      "\u001b[1m278/278\u001b[0m \u001b[32m━━━━━━━━━━━━━━━━━━━━\u001b[0m\u001b[37m\u001b[0m \u001b[1m0s\u001b[0m 97ms/step - age_out_accuracy: 0.0466 - age_out_loss: 4.2865 - gender_out_accuracy: 0.9315 - gender_out_loss: 0.1679 - loss: 5.5692\n",
      "Epoch 100: val_loss did not improve from 7.60792\n",
      "\u001b[1m278/278\u001b[0m \u001b[32m━━━━━━━━━━━━━━━━━━━━\u001b[0m\u001b[37m\u001b[0m \u001b[1m29s\u001b[0m 105ms/step - age_out_accuracy: 0.0466 - age_out_loss: 4.2866 - gender_out_accuracy: 0.9315 - gender_out_loss: 0.1679 - loss: 5.5692 - val_age_out_accuracy: 0.0474 - val_age_out_loss: 6.4637 - val_gender_out_accuracy: 0.8944 - val_gender_out_loss: 0.2606 - val_loss: 7.8452\n",
      "Epoch 101/250\n",
      "\u001b[1m278/278\u001b[0m \u001b[32m━━━━━━━━━━━━━━━━━━━━\u001b[0m\u001b[37m\u001b[0m \u001b[1m0s\u001b[0m 95ms/step - age_out_accuracy: 0.0467 - age_out_loss: 4.2177 - gender_out_accuracy: 0.9304 - gender_out_loss: 0.1658 - loss: 5.4992\n",
      "Epoch 101: val_loss did not improve from 7.60792\n",
      "\u001b[1m278/278\u001b[0m \u001b[32m━━━━━━━━━━━━━━━━━━━━\u001b[0m\u001b[37m\u001b[0m \u001b[1m29s\u001b[0m 103ms/step - age_out_accuracy: 0.0467 - age_out_loss: 4.2178 - gender_out_accuracy: 0.9304 - gender_out_loss: 0.1658 - loss: 5.4993 - val_age_out_accuracy: 0.0474 - val_age_out_loss: 6.6388 - val_gender_out_accuracy: 0.8937 - val_gender_out_loss: 0.2524 - val_loss: 8.0128\n",
      "Epoch 102/250\n",
      "\u001b[1m278/278\u001b[0m \u001b[32m━━━━━━━━━━━━━━━━━━━━\u001b[0m\u001b[37m\u001b[0m \u001b[1m0s\u001b[0m 95ms/step - age_out_accuracy: 0.0438 - age_out_loss: 4.2676 - gender_out_accuracy: 0.9329 - gender_out_loss: 0.1582 - loss: 5.5434\n",
      "Epoch 102: val_loss did not improve from 7.60792\n",
      "\u001b[1m278/278\u001b[0m \u001b[32m━━━━━━━━━━━━━━━━━━━━\u001b[0m\u001b[37m\u001b[0m \u001b[1m29s\u001b[0m 104ms/step - age_out_accuracy: 0.0438 - age_out_loss: 4.2675 - gender_out_accuracy: 0.9329 - gender_out_loss: 0.1582 - loss: 5.5433 - val_age_out_accuracy: 0.0474 - val_age_out_loss: 7.2883 - val_gender_out_accuracy: 0.9016 - val_gender_out_loss: 0.2673 - val_loss: 8.6801\n",
      "Epoch 103/250\n",
      "\u001b[1m278/278\u001b[0m \u001b[32m━━━━━━━━━━━━━━━━━━━━\u001b[0m\u001b[37m\u001b[0m \u001b[1m0s\u001b[0m 96ms/step - age_out_accuracy: 0.0439 - age_out_loss: 4.2301 - gender_out_accuracy: 0.9363 - gender_out_loss: 0.1601 - loss: 5.5085\n",
      "Epoch 103: val_loss did not improve from 7.60792\n",
      "\u001b[1m278/278\u001b[0m \u001b[32m━━━━━━━━━━━━━━━━━━━━\u001b[0m\u001b[37m\u001b[0m \u001b[1m29s\u001b[0m 105ms/step - age_out_accuracy: 0.0439 - age_out_loss: 4.2303 - gender_out_accuracy: 0.9363 - gender_out_loss: 0.1601 - loss: 5.5087 - val_age_out_accuracy: 0.0474 - val_age_out_loss: 6.8863 - val_gender_out_accuracy: 0.8984 - val_gender_out_loss: 0.2486 - val_loss: 8.2617\n",
      "Epoch 104/250\n",
      "\u001b[1m278/278\u001b[0m \u001b[32m━━━━━━━━━━━━━━━━━━━━\u001b[0m\u001b[37m\u001b[0m \u001b[1m0s\u001b[0m 99ms/step - age_out_accuracy: 0.0452 - age_out_loss: 4.2410 - gender_out_accuracy: 0.9347 - gender_out_loss: 0.1557 - loss: 5.5159\n",
      "Epoch 104: val_loss did not improve from 7.60792\n",
      "\u001b[1m278/278\u001b[0m \u001b[32m━━━━━━━━━━━━━━━━━━━━\u001b[0m\u001b[37m\u001b[0m \u001b[1m30s\u001b[0m 108ms/step - age_out_accuracy: 0.0452 - age_out_loss: 4.2411 - gender_out_accuracy: 0.9347 - gender_out_loss: 0.1557 - loss: 5.5160 - val_age_out_accuracy: 0.0474 - val_age_out_loss: 7.0645 - val_gender_out_accuracy: 0.8907 - val_gender_out_loss: 0.2539 - val_loss: 8.4445\n",
      "Epoch 105/250\n",
      "\u001b[1m278/278\u001b[0m \u001b[32m━━━━━━━━━━━━━━━━━━━━\u001b[0m\u001b[37m\u001b[0m \u001b[1m0s\u001b[0m 109ms/step - age_out_accuracy: 0.0455 - age_out_loss: 4.2230 - gender_out_accuracy: 0.9288 - gender_out_loss: 0.1689 - loss: 5.5140\n",
      "Epoch 105: val_loss did not improve from 7.60792\n",
      "\u001b[1m278/278\u001b[0m \u001b[32m━━━━━━━━━━━━━━━━━━━━\u001b[0m\u001b[37m\u001b[0m \u001b[1m33s\u001b[0m 118ms/step - age_out_accuracy: 0.0455 - age_out_loss: 4.2232 - gender_out_accuracy: 0.9288 - gender_out_loss: 0.1689 - loss: 5.5142 - val_age_out_accuracy: 0.0474 - val_age_out_loss: 7.5029 - val_gender_out_accuracy: 0.8929 - val_gender_out_loss: 0.2698 - val_loss: 8.9038\n",
      "Epoch 106/250\n",
      "\u001b[1m278/278\u001b[0m \u001b[32m━━━━━━━━━━━━━━━━━━━━\u001b[0m\u001b[37m\u001b[0m \u001b[1m0s\u001b[0m 139ms/step - age_out_accuracy: 0.0443 - age_out_loss: 4.2214 - gender_out_accuracy: 0.9327 - gender_out_loss: 0.1643 - loss: 5.5100\n",
      "Epoch 106: val_loss did not improve from 7.60792\n",
      "\u001b[1m278/278\u001b[0m \u001b[32m━━━━━━━━━━━━━━━━━━━━\u001b[0m\u001b[37m\u001b[0m \u001b[1m42s\u001b[0m 152ms/step - age_out_accuracy: 0.0443 - age_out_loss: 4.2215 - gender_out_accuracy: 0.9327 - gender_out_loss: 0.1644 - loss: 5.5102 - val_age_out_accuracy: 0.0474 - val_age_out_loss: 6.4850 - val_gender_out_accuracy: 0.8981 - val_gender_out_loss: 0.2572 - val_loss: 7.8721\n",
      "Epoch 107/250\n",
      "\u001b[1m278/278\u001b[0m \u001b[32m━━━━━━━━━━━━━━━━━━━━\u001b[0m\u001b[37m\u001b[0m \u001b[1m0s\u001b[0m 143ms/step - age_out_accuracy: 0.0422 - age_out_loss: 4.2547 - gender_out_accuracy: 0.9327 - gender_out_loss: 0.1601 - loss: 5.5417\n",
      "Epoch 107: val_loss did not improve from 7.60792\n",
      "\u001b[1m278/278\u001b[0m \u001b[32m━━━━━━━━━━━━━━━━━━━━\u001b[0m\u001b[37m\u001b[0m \u001b[1m43s\u001b[0m 155ms/step - age_out_accuracy: 0.0422 - age_out_loss: 4.2548 - gender_out_accuracy: 0.9327 - gender_out_loss: 0.1601 - loss: 5.5418 - val_age_out_accuracy: 0.0474 - val_age_out_loss: 7.0278 - val_gender_out_accuracy: 0.8944 - val_gender_out_loss: 0.2490 - val_loss: 8.4091\n",
      "Epoch 108/250\n",
      "\u001b[1m278/278\u001b[0m \u001b[32m━━━━━━━━━━━━━━━━━━━━\u001b[0m\u001b[37m\u001b[0m \u001b[1m0s\u001b[0m 131ms/step - age_out_accuracy: 0.0428 - age_out_loss: 4.2086 - gender_out_accuracy: 0.9377 - gender_out_loss: 0.1508 - loss: 5.4868\n",
      "Epoch 108: val_loss did not improve from 7.60792\n",
      "\u001b[1m278/278\u001b[0m \u001b[32m━━━━━━━━━━━━━━━━━━━━\u001b[0m\u001b[37m\u001b[0m \u001b[1m40s\u001b[0m 143ms/step - age_out_accuracy: 0.0428 - age_out_loss: 4.2088 - gender_out_accuracy: 0.9377 - gender_out_loss: 0.1508 - loss: 5.4871 - val_age_out_accuracy: 0.0474 - val_age_out_loss: 6.6771 - val_gender_out_accuracy: 0.8940 - val_gender_out_loss: 0.2582 - val_loss: 8.0715\n",
      "Epoch 109/250\n",
      "\u001b[1m278/278\u001b[0m \u001b[32m━━━━━━━━━━━━━━━━━━━━\u001b[0m\u001b[37m\u001b[0m \u001b[1m0s\u001b[0m 129ms/step - age_out_accuracy: 0.0451 - age_out_loss: 4.2305 - gender_out_accuracy: 0.9324 - gender_out_loss: 0.1575 - loss: 5.5159\n",
      "Epoch 109: val_loss did not improve from 7.60792\n",
      "\u001b[1m278/278\u001b[0m \u001b[32m━━━━━━━━━━━━━━━━━━━━\u001b[0m\u001b[37m\u001b[0m \u001b[1m39s\u001b[0m 140ms/step - age_out_accuracy: 0.0451 - age_out_loss: 4.2306 - gender_out_accuracy: 0.9324 - gender_out_loss: 0.1575 - loss: 5.5160 - val_age_out_accuracy: 0.0474 - val_age_out_loss: 7.1354 - val_gender_out_accuracy: 0.8972 - val_gender_out_loss: 0.2660 - val_loss: 8.5354\n",
      "Epoch 110/250\n",
      "\u001b[1m278/278\u001b[0m \u001b[32m━━━━━━━━━━━━━━━━━━━━\u001b[0m\u001b[37m\u001b[0m \u001b[1m0s\u001b[0m 127ms/step - age_out_accuracy: 0.0438 - age_out_loss: 4.1458 - gender_out_accuracy: 0.9394 - gender_out_loss: 0.1471 - loss: 5.4217\n",
      "Epoch 110: val_loss did not improve from 7.60792\n",
      "\u001b[1m278/278\u001b[0m \u001b[32m━━━━━━━━━━━━━━━━━━━━\u001b[0m\u001b[37m\u001b[0m \u001b[1m38s\u001b[0m 138ms/step - age_out_accuracy: 0.0438 - age_out_loss: 4.1460 - gender_out_accuracy: 0.9393 - gender_out_loss: 0.1472 - loss: 5.4220 - val_age_out_accuracy: 0.0474 - val_age_out_loss: 6.7094 - val_gender_out_accuracy: 0.8962 - val_gender_out_loss: 0.2591 - val_loss: 8.1024\n"
     ]
    }
   ],
   "source": [
    "history = model.fit(X_train, y_train_2, batch_size=64, validation_data=(X_test,y_test_2), epochs=250, callbacks=callback_list)"
   ]
  },
  {
   "cell_type": "code",
   "execution_count": 18,
   "metadata": {},
   "outputs": [],
   "source": [
    "import json\n",
    "\n",
    "# Save history as JSON\n",
    "with open(\"training_history.json\", \"w\") as f:\n",
    "    json.dump(history.history, f)"
   ]
  }
 ],
 "metadata": {
  "kernelspec": {
   "display_name": "Python 3",
   "language": "python",
   "name": "python3"
  },
  "language_info": {
   "codemirror_mode": {
    "name": "ipython",
    "version": 3
   },
   "file_extension": ".py",
   "mimetype": "text/x-python",
   "name": "python",
   "nbconvert_exporter": "python",
   "pygments_lexer": "ipython3",
   "version": "3.12.6"
  }
 },
 "nbformat": 4,
 "nbformat_minor": 2
}
